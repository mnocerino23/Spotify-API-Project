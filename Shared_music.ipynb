{
  "nbformat": 4,
  "nbformat_minor": 0,
  "metadata": {
    "colab": {
      "provenance": [],
      "authorship_tag": "ABX9TyO4Fk7dyOnXRkK5bOtfq2TJ",
      "include_colab_link": true
    },
    "kernelspec": {
      "name": "python3",
      "display_name": "Python 3"
    },
    "language_info": {
      "name": "python"
    }
  },
  "cells": [
    {
      "cell_type": "markdown",
      "metadata": {
        "id": "view-in-github",
        "colab_type": "text"
      },
      "source": [
        "<a href=\"https://colab.research.google.com/github/mnocerino23/Spotify-API-Project/blob/main/Shared_music.ipynb\" target=\"_parent\"><img src=\"https://colab.research.google.com/assets/colab-badge.svg\" alt=\"Open In Colab\"/></a>"
      ]
    },
    {
      "cell_type": "markdown",
      "source": [
        "# This Python program will help users find common songs and artists that their friends also know."
      ],
      "metadata": {
        "id": "Wc6jkedoE9em"
      }
    },
    {
      "cell_type": "code",
      "source": [
        "#download spotipy, a library for interacting with the spotify API, and\n",
        "#import it into the notebook\n",
        "\n",
        "!pip install spotipy\n",
        "import spotipy as spot\n",
        "from spotipy.oauth2 import SpotifyClientCredentials\n"
      ],
      "metadata": {
        "colab": {
          "base_uri": "https://localhost:8080/"
        },
        "id": "3KHXgqULFXGH",
        "outputId": "7fe7899d-3d68-4343-ceb7-4ac9b0b6d6ad"
      },
      "execution_count": 35,
      "outputs": [
        {
          "output_type": "stream",
          "name": "stdout",
          "text": [
            "Requirement already satisfied: spotipy in /usr/local/lib/python3.10/dist-packages (2.23.0)\n",
            "Requirement already satisfied: redis>=3.5.3 in /usr/local/lib/python3.10/dist-packages (from spotipy) (4.6.0)\n",
            "Requirement already satisfied: requests>=2.25.0 in /usr/local/lib/python3.10/dist-packages (from spotipy) (2.31.0)\n",
            "Requirement already satisfied: six>=1.15.0 in /usr/local/lib/python3.10/dist-packages (from spotipy) (1.16.0)\n",
            "Requirement already satisfied: urllib3>=1.26.0 in /usr/local/lib/python3.10/dist-packages (from spotipy) (1.26.16)\n",
            "Requirement already satisfied: async-timeout>=4.0.2 in /usr/local/lib/python3.10/dist-packages (from redis>=3.5.3->spotipy) (4.0.2)\n",
            "Requirement already satisfied: charset-normalizer<4,>=2 in /usr/local/lib/python3.10/dist-packages (from requests>=2.25.0->spotipy) (3.2.0)\n",
            "Requirement already satisfied: idna<4,>=2.5 in /usr/local/lib/python3.10/dist-packages (from requests>=2.25.0->spotipy) (3.4)\n",
            "Requirement already satisfied: certifi>=2017.4.17 in /usr/local/lib/python3.10/dist-packages (from requests>=2.25.0->spotipy) (2023.7.22)\n"
          ]
        }
      ]
    },
    {
      "cell_type": "code",
      "execution_count": 36,
      "metadata": {
        "id": "AcXJLkVOE5Ss"
      },
      "outputs": [],
      "source": [
        "#first, we authorize the Spotify API using token from Spotify for developers website"
      ]
    },
    {
      "cell_type": "code",
      "source": [
        "client_id = 'ae974bd565af4a1382abeb31c49db048'\n",
        "client_secret = '6c79d8a47c4e4a499fa565abbe0f3b09'"
      ],
      "metadata": {
        "id": "c4KiU7O7F5RU"
      },
      "execution_count": 37,
      "outputs": []
    },
    {
      "cell_type": "code",
      "source": [
        "MichaelNocerino_uri = 'spotify:user:12143795131'\n",
        "\n",
        "#My personal user id is 12143795131\n",
        "s = spot.Spotify(client_credentials_manager = SpotifyClientCredentials(client_id = '92d385bf40904ebabc5f9bda4fdef7d0'\n",
        ", client_secret= '26cdc47122af4a5b86fbe45773addcec'))"
      ],
      "metadata": {
        "id": "ccbZTgl8HJE1"
      },
      "execution_count": 38,
      "outputs": []
    },
    {
      "cell_type": "code",
      "source": [
        "#commonSongs returns the shared songs known by the two individuals\n",
        "\n",
        "def commonSongs(personOne, personTwo):\n",
        "\n",
        "  personOneResults = s.user_playlists(personOne)\n",
        "  personOnePlaylists = []\n",
        "  for dictionary in personOneResults['items']:\n",
        "    if 'id' in dictionary.keys():\n",
        "      personOnePlaylists.append(dictionary['id'])\n",
        "\n",
        "  personOneSongs = []\n",
        "  for playlist in personOnePlaylists:\n",
        "    s_playlist = s.user_playlist_tracks(personOne, playlist)\n",
        "\n",
        "    #s_playlist['items'] is a list of dictionarys\n",
        "    for track in s_playlist['items']:\n",
        "      if track['track']['name'] not in personOneSongs:\n",
        "        personOneSongs.append(track['track']['name'])\n",
        "\n",
        "  personTwoResults = s.user_playlists(personTwo)\n",
        "  personTwoPlaylists = []\n",
        "  for dictionary in personTwoResults['items']:\n",
        "    if 'id' in dictionary.keys():\n",
        "      personTwoPlaylists.append(dictionary['id'])\n",
        "\n",
        "  personTwoSongs = []\n",
        "  for playlist in personTwoPlaylists:\n",
        "    s_playlist = s.user_playlist_tracks(personTwo, playlist)\n",
        "\n",
        "    #s_playlist['items'] is a list of dictionarys\n",
        "    for track in s_playlist['items']:\n",
        "      if track['track']['name'] not in personTwoSongs:\n",
        "        personTwoSongs.append(track['track']['name'])\n",
        "\n",
        "\n",
        "  #now scan the two artist lists with a double for loop to find intersection\n",
        "  #of the two sets\n",
        "  shared = []\n",
        "  for artist in personOneSongs:\n",
        "    if artist in personTwoSongs:\n",
        "      shared.append(artist)\n",
        "  #output the shared artists\n",
        "  print(len(shared), \"Shared Songs:\")\n",
        "  for item in shared:\n",
        "    print(item)\n"
      ],
      "metadata": {
        "id": "33pGvyLDHnn3"
      },
      "execution_count": 39,
      "outputs": []
    },
    {
      "cell_type": "code",
      "source": [
        "#commonArtists returns the common Artists known by the two individuals\n",
        "#personOne, personTwo are integers that represent the userID of the individual\n",
        "\n",
        "def commonArtists(personOne, personTwo):\n",
        "\n",
        "  personOneResults = s.user_playlists(personOne)\n",
        "  personOnePlaylists = []\n",
        "  for dictionary in personOneResults['items']:\n",
        "    if 'id' in dictionary.keys():\n",
        "      personOnePlaylists.append(dictionary['id'])\n",
        "\n",
        "  personOneArtists = []\n",
        "  for playlist in personOnePlaylists:\n",
        "    s_playlist = s.user_playlist_tracks(personOne, playlist)\n",
        "\n",
        "    #s_playlist['items'] is a list of dictionarys\n",
        "    for track in s_playlist['items']:\n",
        "      if track['track']['album']['artists'][0]['name'] not in personOneArtists:\n",
        "        personOneArtists.append(track['track']['album']['artists'][0]['name'])\n",
        "\n",
        "  personTwoResults = s.user_playlists(personTwo)\n",
        "  personTwoPlaylists = []\n",
        "  for dictionary in personTwoResults['items']:\n",
        "    if 'id' in dictionary.keys():\n",
        "      personTwoPlaylists.append(dictionary['id'])\n",
        "\n",
        "  personTwoArtists = []\n",
        "  for playlist in personTwoPlaylists:\n",
        "    s_playlist = s.user_playlist_tracks(personTwo, playlist)\n",
        "\n",
        "    #s_playlist['items'] is a list of dictionarys\n",
        "    for track in s_playlist['items']:\n",
        "      if track['track']['album']['artists'][0]['name'] not in personTwoArtists:\n",
        "        personTwoArtists.append(track['track']['album']['artists'][0]['name'])\n",
        "\n",
        "\n",
        "  #now scan the two artist lists with a double for loop to find intersection\n",
        "  #of the two sets\n",
        "  shared = []\n",
        "  for artist in personOneArtists:\n",
        "    if artist in personTwoArtists:\n",
        "      shared.append(artist)\n",
        "  #output the shared artists\n",
        "  print(len(shared), \"Shared Artists:\")\n",
        "  for item in shared:\n",
        "    print(item)"
      ],
      "metadata": {
        "id": "Y5e6jQXIHxqO"
      },
      "execution_count": 40,
      "outputs": []
    },
    {
      "cell_type": "code",
      "source": [
        "commonArtists(12143795131, 'mocolvin')"
      ],
      "metadata": {
        "colab": {
          "base_uri": "https://localhost:8080/"
        },
        "id": "1v4TwNiRNWqV",
        "outputId": "edc289d9-bdb4-41df-e2e7-39f21c9e4a8e"
      },
      "execution_count": 41,
      "outputs": [
        {
          "output_type": "stream",
          "name": "stdout",
          "text": [
            "48 Shared Artists:\n",
            "Fred again..\n",
            "Calvin Harris\n",
            "Kanye West\n",
            "Men I Trust\n",
            "Drake\n",
            "JAY-Z\n",
            "Kendrick Lamar\n",
            "A Tribe Called Quest\n",
            "Khruangbin\n",
            "Various Artists\n",
            "El Ten Eleven\n",
            "Shakey Graves\n",
            "Jackson Browne\n",
            "Elliott Smith\n",
            "Grateful Dead\n",
            "Silk Rhodes\n",
            "alt-J\n",
            "Darondo\n",
            "Yo La Tengo\n",
            "Bruce Springsteen\n",
            "Talking Heads\n",
            "David Bowie\n",
            "DISPATCH\n",
            "The Police\n",
            "The Clash\n",
            "Cotton Jones\n",
            "Tom Petty and the Heartbreakers\n",
            "Led Zeppelin\n",
            "The Rolling Stones\n",
            "Mazzy Star\n",
            "The Beatles\n",
            "NEIL FRANCES\n",
            "A$AP Rocky\n",
            "John Mayer\n",
            "RÜFÜS DU SOL\n",
            "50 Cent\n",
            "The Smiths\n",
            "The Replacements\n",
            "Beach House\n",
            "Mac Miller\n",
            "070 Shake\n",
            "Sade\n",
            "Eagles\n",
            "Peter Frampton\n",
            "Pixies\n",
            "Fleetwood Mac\n",
            "Ariel Pink\n",
            "Frank Ocean\n"
          ]
        }
      ]
    },
    {
      "cell_type": "code",
      "source": [
        "commonSongs(12143795131, 'catherine_joy')"
      ],
      "metadata": {
        "colab": {
          "base_uri": "https://localhost:8080/"
        },
        "id": "FuM__zFCTFfZ",
        "outputId": "001e9b37-6872-4737-cfdf-1436057bfe9c"
      },
      "execution_count": 42,
      "outputs": [
        {
          "output_type": "stream",
          "name": "stdout",
          "text": [
            "88 Shared Songs:\n",
            "I Wonder\n",
            "I Really Love You\n",
            "Yellow Eyes\n",
            "Turnmills\n",
            "Canary Islands\n",
            "El Condor Pasa (If I Could)\n",
            "These Days\n",
            "Playground Love\n",
            "I Found a Reason - Demo Version; 2015 Remaster\n",
            "Ride Into The Sun - \"1969\" / 2014 Mix\n",
            "I Want Wind to Blow\n",
            "Carolyn's Fingers\n",
            "How Lucky\n",
            "None but the Rain\n",
            "Place To Be\n",
            "From The Morning\n",
            "Family and Genus\n",
            "Tomorrow\n",
            "Delilah (pull me out of this)\n",
            "This Must Be the Place (Naive Melody) - 2005 Remaster\n",
            "Home\n",
            "California Stars\n",
            "Gone The Bells\n",
            "Feathered Indians\n",
            "Subplots\n",
            "Wasting Time\n",
            "Sexy Weekend\n",
            "Ocean Blue\n",
            "Tangerine - Remaster\n",
            "Did Ye Get Healed\n",
            "I've Got to Tell You About It\n",
            "Don't Think Twice, It's All Right\n",
            "Cowboy Take Me Away\n",
            "The Spinning Wheel\n",
            "Band On The Run - 2010 Remaster\n",
            "Necta (Butterfly)\n",
            "Murder On the Dance Floor\n",
            "Underwater\n",
            "Emanate\n",
            "Girl from the North Country\n",
            "April Come She Will\n",
            "H.f.g.w (Canyons Drunken Rage)\n",
            "The Fairest Of The Seasons\n",
            "Shot Reverse Shot\n",
            "See-Line Woman - Riton Remix\n",
            "Heaven or Las Vegas\n",
            "The Hours\n",
            "Cherry\n",
            "Where Angels Fear To Tread\n",
            "My Old Man\n",
            "Empire Ants (feat. Little Dragon)\n",
            "New Gold (feat. Tame Impala and Bootie Brown)\n",
            "Furr\n",
            "Messages from the Stars\n",
            "Boss Festival\n",
            "Blood Red Sentimental Blues\n",
            "Herefore - Roisto Remix\n",
            "Sintayehu\n",
            "Please, Please, Please, Let Me Get What I Want - 2011 Remaster\n",
            "Face to Face\n",
            "Badfish\n",
            "Keep the Customer Satisfied\n",
            "We Are The People\n",
            "Simple Things (The Ocean Song)\n",
            "Hands I Can Hold\n",
            "Maralou\n",
            "I Found a Reason - 2015 Remaster\n",
            "The Perfect Girl\n",
            "Watching Him Fade Away\n",
            "Eyes Didn't Let Me Open\n",
            "Do You Remember\n",
            "Music Makes Me High\n",
            "I Felt Your Shape\n",
            "Since I Left You\n",
            "Heaven on the Beach With You\n",
            "Which Will\n",
            "The Sound Of Someone You Love Who's Going Away And It Doesn't Matter - 2008 Digital Remaster\n",
            "Back to the Old House - 2011 Remaster\n",
            "Chamber Of Reflection\n",
            "Cool Down The Pace\n",
            "Inside Out\n",
            "Marijuana\n",
            "Здравствуй\n",
            "My Family's Role in the World Revolution\n",
            "I Root\n",
            "Because I’m Me\n",
            "Jackie Wants a Black Eye\n",
            "Queen Jane Approximately\n"
          ]
        }
      ]
    }
  ]
}