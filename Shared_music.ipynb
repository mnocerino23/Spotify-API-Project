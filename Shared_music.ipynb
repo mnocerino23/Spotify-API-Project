{
  "nbformat": 4,
  "nbformat_minor": 0,
  "metadata": {
    "colab": {
      "provenance": [],
      "authorship_tag": "ABX9TyMxWMKaq1+gteP62sT/xxkx",
      "include_colab_link": true
    },
    "kernelspec": {
      "name": "python3",
      "display_name": "Python 3"
    },
    "language_info": {
      "name": "python"
    }
  },
  "cells": [
    {
      "cell_type": "markdown",
      "metadata": {
        "id": "view-in-github",
        "colab_type": "text"
      },
      "source": [
        "<a href=\"https://colab.research.google.com/github/mnocerino23/Spotify-API-Project/blob/main/Shared_music.ipynb\" target=\"_parent\"><img src=\"https://colab.research.google.com/assets/colab-badge.svg\" alt=\"Open In Colab\"/></a>"
      ]
    },
    {
      "cell_type": "markdown",
      "source": [
        "# This Python program will help users find common songs and artists that their friends also know."
      ],
      "metadata": {
        "id": "Wc6jkedoE9em"
      }
    },
    {
      "cell_type": "code",
      "source": [
        "#download spotipy, a library for interacting with the spotify API, and\n",
        "#import it into the notebook\n",
        "\n",
        "!pip install spotipy\n",
        "import spotipy as spot\n",
        "from spotipy.oauth2 import SpotifyClientCredentials\n"
      ],
      "metadata": {
        "colab": {
          "base_uri": "https://localhost:8080/"
        },
        "id": "3KHXgqULFXGH",
        "outputId": "4db4ce61-be4e-41b2-d718-7fb6d302f7ea"
      },
      "execution_count": 58,
      "outputs": [
        {
          "output_type": "stream",
          "name": "stdout",
          "text": [
            "Requirement already satisfied: spotipy in /usr/local/lib/python3.10/dist-packages (2.23.0)\n",
            "Requirement already satisfied: redis>=3.5.3 in /usr/local/lib/python3.10/dist-packages (from spotipy) (4.6.0)\n",
            "Requirement already satisfied: requests>=2.25.0 in /usr/local/lib/python3.10/dist-packages (from spotipy) (2.31.0)\n",
            "Requirement already satisfied: six>=1.15.0 in /usr/local/lib/python3.10/dist-packages (from spotipy) (1.16.0)\n",
            "Requirement already satisfied: urllib3>=1.26.0 in /usr/local/lib/python3.10/dist-packages (from spotipy) (1.26.16)\n",
            "Requirement already satisfied: async-timeout>=4.0.2 in /usr/local/lib/python3.10/dist-packages (from redis>=3.5.3->spotipy) (4.0.2)\n",
            "Requirement already satisfied: charset-normalizer<4,>=2 in /usr/local/lib/python3.10/dist-packages (from requests>=2.25.0->spotipy) (3.2.0)\n",
            "Requirement already satisfied: idna<4,>=2.5 in /usr/local/lib/python3.10/dist-packages (from requests>=2.25.0->spotipy) (3.4)\n",
            "Requirement already satisfied: certifi>=2017.4.17 in /usr/local/lib/python3.10/dist-packages (from requests>=2.25.0->spotipy) (2023.7.22)\n"
          ]
        }
      ]
    },
    {
      "cell_type": "code",
      "execution_count": 59,
      "metadata": {
        "id": "AcXJLkVOE5Ss"
      },
      "outputs": [],
      "source": [
        "#first, we authorize the Spotify API using token from Spotify for developers website"
      ]
    },
    {
      "cell_type": "code",
      "source": [
        "client_id = 'ae974bd565af4a1382abeb31c49db048'\n",
        "client_secret = '6c79d8a47c4e4a499fa565abbe0f3b09'"
      ],
      "metadata": {
        "id": "c4KiU7O7F5RU"
      },
      "execution_count": 60,
      "outputs": []
    },
    {
      "cell_type": "code",
      "source": [
        "MichaelNocerino_uri = 'spotify:user:12143795131'\n",
        "\n",
        "#My personal user id is 12143795131\n",
        "s = spot.Spotify(client_credentials_manager = SpotifyClientCredentials(client_id = 'ae974bd565af4a1382abeb31c49db048'\n",
        ", client_secret= '6c79d8a47c4e4a499fa565abbe0f3b09'))"
      ],
      "metadata": {
        "id": "ccbZTgl8HJE1"
      },
      "execution_count": 61,
      "outputs": []
    },
    {
      "cell_type": "code",
      "source": [
        "#commonSongs returns the shared songs known by the two individuals\n",
        "\n",
        "def commonSongs(personOne, personTwo):\n",
        "\n",
        "  personOneResults = s.user_playlists(personOne)\n",
        "  personOnePlaylists = []\n",
        "  for dictionary in personOneResults['items']:\n",
        "    if 'id' in dictionary.keys():\n",
        "      personOnePlaylists.append(dictionary['id'])\n",
        "\n",
        "  personOneSongs = []\n",
        "  for playlist in personOnePlaylists:\n",
        "    s_playlist = s.user_playlist_tracks(personOne, playlist)\n",
        "\n",
        "    #s_playlist['items'] is a list of dictionarys\n",
        "    for track in s_playlist['items']:\n",
        "      if track['track']['name'] not in personOneSongs:\n",
        "        personOneSongs.append(track['track']['name'])\n",
        "\n",
        "  personTwoResults = s.user_playlists(personTwo)\n",
        "  personTwoPlaylists = []\n",
        "  for dictionary in personTwoResults['items']:\n",
        "    if 'id' in dictionary.keys():\n",
        "      personTwoPlaylists.append(dictionary['id'])\n",
        "\n",
        "  personTwoSongs = []\n",
        "  for playlist in personTwoPlaylists:\n",
        "    s_playlist = s.user_playlist_tracks(personTwo, playlist)\n",
        "\n",
        "    #s_playlist['items'] is a list of dictionarys\n",
        "    for track in s_playlist['items']:\n",
        "      if track['track']['name'] not in personTwoSongs:\n",
        "        personTwoSongs.append(track['track']['name'])\n",
        "\n",
        "\n",
        "  #now scan the two artist lists with a double for loop to find intersection\n",
        "  #of the two sets\n",
        "  shared = []\n",
        "  for song in personOneSongs:\n",
        "    if song in personTwoSongs:\n",
        "      shared.append(song)\n",
        "  #output the shared artists\n",
        "  print(len(shared), \"Shared Songs:\")\n",
        "  for item in shared:\n",
        "    print(item)\n"
      ],
      "metadata": {
        "id": "33pGvyLDHnn3"
      },
      "execution_count": 62,
      "outputs": []
    },
    {
      "cell_type": "code",
      "source": [
        "#commonArtists returns the common Artists known by the two individuals\n",
        "#personOne, personTwo are integers that represent the userID of the individual\n",
        "\n",
        "def commonArtists(personOne, personTwo):\n",
        "\n",
        "  personOneResults = s.user_playlists(personOne)\n",
        "  personOnePlaylists = []\n",
        "  for dictionary in personOneResults['items']:\n",
        "    if 'id' in dictionary.keys():\n",
        "      personOnePlaylists.append(dictionary['id'])\n",
        "\n",
        "  personOneArtists = []\n",
        "  for playlist in personOnePlaylists:\n",
        "    s_playlist = s.user_playlist_tracks(personOne, playlist)\n",
        "\n",
        "    #s_playlist['items'] is a list of dictionarys\n",
        "    for track in s_playlist['items']:\n",
        "      if track['track']['album']['artists'][0]['name'] not in personOneArtists:\n",
        "        personOneArtists.append(track['track']['album']['artists'][0]['name'])\n",
        "\n",
        "  personTwoResults = s.user_playlists(personTwo)\n",
        "  personTwoPlaylists = []\n",
        "  for dictionary in personTwoResults['items']:\n",
        "    if 'id' in dictionary.keys():\n",
        "      personTwoPlaylists.append(dictionary['id'])\n",
        "\n",
        "  personTwoArtists = []\n",
        "  for playlist in personTwoPlaylists:\n",
        "    s_playlist = s.user_playlist_tracks(personTwo, playlist)\n",
        "\n",
        "    #s_playlist['items'] is a list of dictionarys\n",
        "    for track in s_playlist['items']:\n",
        "      if track['track']['album']['artists'][0]['name'] not in personTwoArtists:\n",
        "        personTwoArtists.append(track['track']['album']['artists'][0]['name'])\n",
        "\n",
        "\n",
        "  #now scan the two artist lists with a double for loop to find intersection\n",
        "  #of the two sets\n",
        "  shared = []\n",
        "  for artist in personOneArtists:\n",
        "    if artist in personTwoArtists:\n",
        "      shared.append(artist)\n",
        "  #output the shared artists\n",
        "  print(len(shared), \"Shared Artists:\")\n",
        "  for item in shared:\n",
        "    print(item)"
      ],
      "metadata": {
        "id": "Y5e6jQXIHxqO"
      },
      "execution_count": 63,
      "outputs": []
    },
    {
      "cell_type": "code",
      "source": [
        "commonArtists(12143795131, 'mocolvin')"
      ],
      "metadata": {
        "colab": {
          "base_uri": "https://localhost:8080/"
        },
        "id": "1v4TwNiRNWqV",
        "outputId": "387755d6-4683-42d5-ac24-d14c40489d4c"
      },
      "execution_count": 64,
      "outputs": [
        {
          "output_type": "stream",
          "name": "stdout",
          "text": [
            "48 Shared Artists:\n",
            "Fred again..\n",
            "Calvin Harris\n",
            "Kanye West\n",
            "Men I Trust\n",
            "Drake\n",
            "JAY-Z\n",
            "Kendrick Lamar\n",
            "A Tribe Called Quest\n",
            "Khruangbin\n",
            "Various Artists\n",
            "El Ten Eleven\n",
            "Shakey Graves\n",
            "Jackson Browne\n",
            "Elliott Smith\n",
            "Grateful Dead\n",
            "Silk Rhodes\n",
            "alt-J\n",
            "Darondo\n",
            "Yo La Tengo\n",
            "Bruce Springsteen\n",
            "Talking Heads\n",
            "David Bowie\n",
            "DISPATCH\n",
            "The Police\n",
            "The Clash\n",
            "Cotton Jones\n",
            "Tom Petty and the Heartbreakers\n",
            "Led Zeppelin\n",
            "The Rolling Stones\n",
            "Mazzy Star\n",
            "The Beatles\n",
            "NEIL FRANCES\n",
            "A$AP Rocky\n",
            "John Mayer\n",
            "RÜFÜS DU SOL\n",
            "50 Cent\n",
            "The Smiths\n",
            "The Replacements\n",
            "Beach House\n",
            "Mac Miller\n",
            "070 Shake\n",
            "Sade\n",
            "Eagles\n",
            "Peter Frampton\n",
            "Pixies\n",
            "Fleetwood Mac\n",
            "Ariel Pink\n",
            "Frank Ocean\n"
          ]
        }
      ]
    },
    {
      "cell_type": "code",
      "source": [
        "commonSongs(12143795131, 'catherine_joy')"
      ],
      "metadata": {
        "colab": {
          "base_uri": "https://localhost:8080/"
        },
        "id": "FuM__zFCTFfZ",
        "outputId": "b36bbb92-7b06-4b02-c187-53a3ca591158"
      },
      "execution_count": 65,
      "outputs": [
        {
          "output_type": "stream",
          "name": "stdout",
          "text": [
            "87 Shared Songs:\n",
            "I Wonder\n",
            "I Really Love You\n",
            "Yellow Eyes\n",
            "Turnmills\n",
            "Canary Islands\n",
            "El Condor Pasa (If I Could)\n",
            "These Days\n",
            "Playground Love\n",
            "I Found a Reason - Demo Version; 2015 Remaster\n",
            "Ride Into The Sun - \"1969\" / 2014 Mix\n",
            "I Want Wind to Blow\n",
            "Carolyn's Fingers\n",
            "How Lucky\n",
            "None but the Rain\n",
            "Place To Be\n",
            "From The Morning\n",
            "Family and Genus\n",
            "Tomorrow\n",
            "Delilah (pull me out of this)\n",
            "This Must Be the Place (Naive Melody) - 2005 Remaster\n",
            "Home\n",
            "California Stars\n",
            "Gone The Bells\n",
            "Feathered Indians\n",
            "Subplots\n",
            "Wasting Time\n",
            "Sexy Weekend\n",
            "Ocean Blue\n",
            "Tangerine - Remaster\n",
            "Did Ye Get Healed\n",
            "I've Got to Tell You About It\n",
            "Don't Think Twice, It's All Right\n",
            "Cowboy Take Me Away\n",
            "The Spinning Wheel\n",
            "Band On The Run - 2010 Remaster\n",
            "Necta (Butterfly)\n",
            "Murder On the Dance Floor\n",
            "Underwater\n",
            "Emanate\n",
            "Girl from the North Country\n",
            "April Come She Will\n",
            "H.f.g.w (Canyons Drunken Rage)\n",
            "The Fairest Of The Seasons\n",
            "Shot Reverse Shot\n",
            "See-Line Woman - Riton Remix\n",
            "Heaven or Las Vegas\n",
            "The Hours\n",
            "Cherry\n",
            "Where Angels Fear To Tread\n",
            "My Old Man\n",
            "Empire Ants (feat. Little Dragon)\n",
            "New Gold (feat. Tame Impala and Bootie Brown)\n",
            "Furr\n",
            "Messages from the Stars\n",
            "Boss Festival\n",
            "Blood Red Sentimental Blues\n",
            "Herefore - Roisto Remix\n",
            "Sintayehu\n",
            "Please, Please, Please, Let Me Get What I Want - 2011 Remaster\n",
            "Face to Face\n",
            "Badfish\n",
            "Keep the Customer Satisfied\n",
            "We Are The People\n",
            "Simple Things (The Ocean Song)\n",
            "Hands I Can Hold\n",
            "Maralou\n",
            "I Found a Reason - 2015 Remaster\n",
            "The Perfect Girl\n",
            "Watching Him Fade Away\n",
            "Eyes Didn't Let Me Open\n",
            "Do You Remember\n",
            "Music Makes Me High\n",
            "I Felt Your Shape\n",
            "Since I Left You\n",
            "Heaven on the Beach With You\n",
            "Which Will\n",
            "The Sound Of Someone You Love Who's Going Away And It Doesn't Matter - 2008 Digital Remaster\n",
            "Back to the Old House - 2011 Remaster\n",
            "Chamber Of Reflection\n",
            "Cool Down The Pace\n",
            "Inside Out\n",
            "Marijuana\n",
            "Здравствуй\n",
            "My Family's Role in the World Revolution\n",
            "I Root\n",
            "Because I’m Me\n",
            "Jackie Wants a Black Eye\n"
          ]
        }
      ]
    },
    {
      "cell_type": "code",
      "source": [
        "#modify the common Songs function slightly so that it returns a list\n",
        "#the song ids as opposed to the song title\n",
        "\n",
        "def commonSongs_returnIDs(personOne, personTwo):\n",
        "\n",
        "  personOneResults = s.user_playlists(personOne)\n",
        "  personOnePlaylists = []\n",
        "  for dictionary in personOneResults['items']:\n",
        "    if 'id' in dictionary.keys():\n",
        "      personOnePlaylists.append(dictionary['id'])\n",
        "\n",
        "  personOneSongs = []\n",
        "  for playlist in personOnePlaylists:\n",
        "    s_playlist = s.user_playlist_tracks(personOne, playlist)\n",
        "\n",
        "    #s_playlist['items'] is a list of dictionarys\n",
        "    for track in s_playlist['items']:\n",
        "      if track['track']['id'] not in personOneSongs:\n",
        "        personOneSongs.append(track['track']['id'])\n",
        "\n",
        "  personTwoResults = s.user_playlists(personTwo)\n",
        "  personTwoPlaylists = []\n",
        "  for dictionary in personTwoResults['items']:\n",
        "    if 'id' in dictionary.keys():\n",
        "      personTwoPlaylists.append(dictionary['id'])\n",
        "\n",
        "  personTwoSongs = []\n",
        "  for playlist in personTwoPlaylists:\n",
        "    s_playlist = s.user_playlist_tracks(personTwo, playlist)\n",
        "\n",
        "    #s_playlist['items'] is a list of dictionarys\n",
        "    for track in s_playlist['items']:\n",
        "      if track['track']['id'] not in personTwoSongs:\n",
        "        personTwoSongs.append(track['track']['id'])\n",
        "\n",
        "\n",
        "  #now scan the two artist lists with a double for loop to find intersection\n",
        "  #of the two sets\n",
        "  shared = []\n",
        "  for song in personOneSongs:\n",
        "    if song in personTwoSongs:\n",
        "      shared.append(song)\n",
        "  #output the shared artists\n",
        "  #print(len(shared), \"Shared Songs:\")\n",
        "  #for item in shared:\n",
        "    #print(item)\n",
        "  return shared"
      ],
      "metadata": {
        "id": "lbmYBj7g-u5N"
      },
      "execution_count": 66,
      "outputs": []
    },
    {
      "cell_type": "code",
      "source": [
        "#test the function\n",
        "commonSongs_returnIDs(12143795131, 'catherine_joy')"
      ],
      "metadata": {
        "colab": {
          "base_uri": "https://localhost:8080/"
        },
        "id": "sVv1IO4E_JMr",
        "outputId": "f86384b4-ec9f-4f21-abc0-fbe848f6c84e"
      },
      "execution_count": 67,
      "outputs": [
        {
          "output_type": "execute_result",
          "data": {
            "text/plain": [
              "['4jQqM4NI79HEcWHUJb8Hvf',\n",
              " '7j9UhvhILH3zR1eEGLSksU',\n",
              " '3HOXNIj8NjlgjQiBd3YVIi',\n",
              " '5m4o1robU6yTvFDXXSrH0F',\n",
              " '7MuU7UbVaKyu4HkHBoHwrD',\n",
              " '1eN42Q7IWRzRBq8eW2Y2TE',\n",
              " '3uCkIqD0VzQUijbs8WIizs',\n",
              " '052z2UsE2wPrHsBJ9tly0g',\n",
              " '3EyGPeNd6Y8ZMUcZQR1BvG',\n",
              " '7qJreNMHmeV7Ezs4y9eddQ',\n",
              " '1bAZV1EBTRi9t1cVg75i8t',\n",
              " '7I5TgzRBPcnUafTJaZFbfy',\n",
              " '4iK3yOQKoby2b9gvCmUwsR',\n",
              " '5X0ax3W4acNnoMnHqXtcAb',\n",
              " '5QUeSXjTMHbq1fW5da2waF',\n",
              " '6meH4I9A4WZtD3z8hnQKqr',\n",
              " '5lJ1NMNz6ymwdaL9aejm8e',\n",
              " '47KDDZgFiX1w6RFOuLXsSn',\n",
              " '0Ftrkz2waaHcjKb4qYvLmz',\n",
              " '6aBUnkXuCEQQHAlTokv9or',\n",
              " '58O3Mm4oajmOp24fofYURh',\n",
              " '2tgQaL85WoRfgEa4hFQgrE',\n",
              " '0xf9XvTqzMSqqN7Vpqybsd',\n",
              " '5nb0BEZqsmQYseSPJ932K8',\n",
              " '5yCrrN0GiJjHkRJGWw5D13',\n",
              " '3tjnCI2F64MOrRzi3NgXCA',\n",
              " '5BzGvBwBL3y2WSGml0rkLH',\n",
              " '4ywWJqYKOwaVVh9xXARWUS',\n",
              " '38S3dnbMSSUvLZxwKPTsx1',\n",
              " '7zGTy1hKWrcAbW3pnR6Gw4',\n",
              " '2WOjLF83vqjit2Zh4B69V3',\n",
              " '3rXCZRMiMZp0feGcYXpwYX',\n",
              " '0yR4SV1qBggRu6kNJJ3Am9',\n",
              " '1H4idkmruFoJBg1DvUv2tY',\n",
              " '2ZUjks7eu5jmj2qnWLm8qm',\n",
              " '4LrOmj6MoxMdCLf2zJnkq0',\n",
              " '5ZvHcR4OSwvEV5IhigbTOT',\n",
              " '6otMqBmdJD8V7rAUnLMs1D',\n",
              " '739sLmfUkVFoyPtb0C3263',\n",
              " '0djZ2ndRfAL69WYNra5jRC',\n",
              " '2wxeIcUPu0hdlB8pFsxSAi',\n",
              " '3YX4WviUJiDEov6IrAdFYD',\n",
              " '5b6qqB5nvWRrin8e2cWDQY',\n",
              " '2BnoxYpCeEiDQSUNx1TZpf',\n",
              " '0AxZUYeQ9bZwSdt1LmZuok',\n",
              " '3UTKuCUcoA2HQksp7veM6C',\n",
              " '2IOFZdYYkFxEHVz1w34PoL',\n",
              " '1ZqeykOaDmjkldzs7XGR4b',\n",
              " '4ewRM5SP4YhmlfKhi5uSjS',\n",
              " '3a6PN6BRB8PP3ms48s7kU1',\n",
              " '64dLd6rVqDLtkXFYrEUHIU',\n",
              " '7INhVPCEIaT1GhtDYospGK',\n",
              " '6lYY2HktYKpV1pUamfRlU1',\n",
              " '6vZhs9uND5JfZV5apbjJqo',\n",
              " '7mgxJci0i2wKTTC7n1zxoE',\n",
              " '2wMmUvfrkpFJ4ovjpMNVmL',\n",
              " '6BrMEbPSSj55nQhkgf6DnE',\n",
              " '7v9Q0dAb9t7h8gJOkcJHay',\n",
              " '4uIjNF84ZbteunNMxr4Xc0',\n",
              " '3zEN0ii6s4DHHBpnTp3RP7',\n",
              " '5EGAkrIRnaIz88A3tCGW0f',\n",
              " '6D7nHrBXHBHZqxlEBvofFT',\n",
              " '63OJHHu2ambZAvdrvhdT2b',\n",
              " '2QzKAF0y1BQhxwg8N05Uog',\n",
              " '4pPDvob57BlkjTwimnrira',\n",
              " '1EZJBB6bvCcrvYRlOyoHuf',\n",
              " '5wGimcNBzXh1e18IJqbENw',\n",
              " '1HTR2cbs7Nor722yzYQi63',\n",
              " '1AAYbsAIgEJMbxgLgpjE9y',\n",
              " '38paDDziQ57k1f4VfKTeGk',\n",
              " '4Cg0paoTgxlo2LC85HKaab',\n",
              " '5mhl1LKUCh4mOdPwh0WwMM',\n",
              " '6LUGvXEAK8WxIBYK43uoTb',\n",
              " '7H7NyZ3G075GqPx2evsfeb',\n",
              " '4llIZen1Cn4mi3DJm2Lqlz',\n",
              " '6WlmEymaXKMRs3D2c4j6os',\n",
              " '4gmzU1lObaLdStXFRcODhe',\n",
              " '7opFLwPI53eORdmxyv7Y3f',\n",
              " '3f3HHRPF5vAo90GwdpDMaQ',\n",
              " '27qG9sy9FaxB7sd3pRMAAO']"
            ]
          },
          "metadata": {},
          "execution_count": 67
        }
      ]
    },
    {
      "cell_type": "code",
      "source": [
        "import spotipy\n",
        "from spotipy.oauth2 import SpotifyOAuth\n",
        "\n",
        "redirect_uri = \"http://localhost:580\"  # You can change this to a valid redirect URI\n",
        "\n",
        "# Authenticate and create the Spotipy client\n",
        "sp = spotipy.Spotify(auth_manager=SpotifyOAuth(client_id, client_secret, redirect_uri, scope=\"playlist-modify-public\"))\n",
        "\n",
        "# Create a new playlist\n",
        "my_user_id = 12143795131\n",
        "\n",
        "playlist = sp.user_playlist_create(my_user_id, \"Shared Playlist\", public=True)\n",
        "\n",
        "# Add songs to the playlist\n",
        "tracks = commonSongs_returnIDs(my_user_id, 'catherine_joy')\n",
        "sp.playlist_add_items(playlist, tracks)"
      ],
      "metadata": {
        "colab": {
          "base_uri": "https://localhost:8080/",
          "height": 391
        },
        "id": "ARMNDVC1CN79",
        "outputId": "1f9977fd-9a46-4e21-f64d-6cd66ec81439"
      },
      "execution_count": 75,
      "outputs": [
        {
          "output_type": "error",
          "ename": "KeyboardInterrupt",
          "evalue": "ignored",
          "traceback": [
            "\u001b[0;31m---------------------------------------------------------------------------\u001b[0m",
            "\u001b[0;31mKeyboardInterrupt\u001b[0m                         Traceback (most recent call last)",
            "\u001b[0;32m<ipython-input-75-be7c6a013f7c>\u001b[0m in \u001b[0;36m<cell line: 12>\u001b[0;34m()\u001b[0m\n\u001b[1;32m     10\u001b[0m \u001b[0mmy_user_id\u001b[0m \u001b[0;34m=\u001b[0m \u001b[0;36m12143795131\u001b[0m\u001b[0;34m\u001b[0m\u001b[0;34m\u001b[0m\u001b[0m\n\u001b[1;32m     11\u001b[0m \u001b[0;34m\u001b[0m\u001b[0m\n\u001b[0;32m---> 12\u001b[0;31m \u001b[0mplaylist\u001b[0m \u001b[0;34m=\u001b[0m \u001b[0msp\u001b[0m\u001b[0;34m.\u001b[0m\u001b[0muser_playlist_create\u001b[0m\u001b[0;34m(\u001b[0m\u001b[0mmy_user_id\u001b[0m\u001b[0;34m,\u001b[0m \u001b[0;34m\"Shared Playlist\"\u001b[0m\u001b[0;34m,\u001b[0m \u001b[0mpublic\u001b[0m\u001b[0;34m=\u001b[0m\u001b[0;32mTrue\u001b[0m\u001b[0;34m)\u001b[0m\u001b[0;34m\u001b[0m\u001b[0;34m\u001b[0m\u001b[0m\n\u001b[0m\u001b[1;32m     13\u001b[0m \u001b[0;34m\u001b[0m\u001b[0m\n\u001b[1;32m     14\u001b[0m \u001b[0;31m# Add songs to the playlist\u001b[0m\u001b[0;34m\u001b[0m\u001b[0;34m\u001b[0m\u001b[0m\n",
            "\u001b[0;32m/usr/local/lib/python3.10/dist-packages/spotipy/client.py\u001b[0m in \u001b[0;36muser_playlist_create\u001b[0;34m(self, user, name, public, collaborative, description)\u001b[0m\n\u001b[1;32m    816\u001b[0m         }\n\u001b[1;32m    817\u001b[0m \u001b[0;34m\u001b[0m\u001b[0m\n\u001b[0;32m--> 818\u001b[0;31m         \u001b[0;32mreturn\u001b[0m \u001b[0mself\u001b[0m\u001b[0;34m.\u001b[0m\u001b[0m_post\u001b[0m\u001b[0;34m(\u001b[0m\u001b[0;34m\"users/%s/playlists\"\u001b[0m \u001b[0;34m%\u001b[0m \u001b[0;34m(\u001b[0m\u001b[0muser\u001b[0m\u001b[0;34m,\u001b[0m\u001b[0;34m)\u001b[0m\u001b[0;34m,\u001b[0m \u001b[0mpayload\u001b[0m\u001b[0;34m=\u001b[0m\u001b[0mdata\u001b[0m\u001b[0;34m)\u001b[0m\u001b[0;34m\u001b[0m\u001b[0;34m\u001b[0m\u001b[0m\n\u001b[0m\u001b[1;32m    819\u001b[0m \u001b[0;34m\u001b[0m\u001b[0m\n\u001b[1;32m    820\u001b[0m     def user_playlist_change_details(\n",
            "\u001b[0;32m/usr/local/lib/python3.10/dist-packages/spotipy/client.py\u001b[0m in \u001b[0;36m_post\u001b[0;34m(self, url, args, payload, **kwargs)\u001b[0m\n\u001b[1;32m    326\u001b[0m         \u001b[0;32mif\u001b[0m \u001b[0margs\u001b[0m\u001b[0;34m:\u001b[0m\u001b[0;34m\u001b[0m\u001b[0;34m\u001b[0m\u001b[0m\n\u001b[1;32m    327\u001b[0m             \u001b[0mkwargs\u001b[0m\u001b[0;34m.\u001b[0m\u001b[0mupdate\u001b[0m\u001b[0;34m(\u001b[0m\u001b[0margs\u001b[0m\u001b[0;34m)\u001b[0m\u001b[0;34m\u001b[0m\u001b[0;34m\u001b[0m\u001b[0m\n\u001b[0;32m--> 328\u001b[0;31m         \u001b[0;32mreturn\u001b[0m \u001b[0mself\u001b[0m\u001b[0;34m.\u001b[0m\u001b[0m_internal_call\u001b[0m\u001b[0;34m(\u001b[0m\u001b[0;34m\"POST\"\u001b[0m\u001b[0;34m,\u001b[0m \u001b[0murl\u001b[0m\u001b[0;34m,\u001b[0m \u001b[0mpayload\u001b[0m\u001b[0;34m,\u001b[0m \u001b[0mkwargs\u001b[0m\u001b[0;34m)\u001b[0m\u001b[0;34m\u001b[0m\u001b[0;34m\u001b[0m\u001b[0m\n\u001b[0m\u001b[1;32m    329\u001b[0m \u001b[0;34m\u001b[0m\u001b[0m\n\u001b[1;32m    330\u001b[0m     \u001b[0;32mdef\u001b[0m \u001b[0m_delete\u001b[0m\u001b[0;34m(\u001b[0m\u001b[0mself\u001b[0m\u001b[0;34m,\u001b[0m \u001b[0murl\u001b[0m\u001b[0;34m,\u001b[0m \u001b[0margs\u001b[0m\u001b[0;34m=\u001b[0m\u001b[0;32mNone\u001b[0m\u001b[0;34m,\u001b[0m \u001b[0mpayload\u001b[0m\u001b[0;34m=\u001b[0m\u001b[0;32mNone\u001b[0m\u001b[0;34m,\u001b[0m \u001b[0;34m**\u001b[0m\u001b[0mkwargs\u001b[0m\u001b[0;34m)\u001b[0m\u001b[0;34m:\u001b[0m\u001b[0;34m\u001b[0m\u001b[0;34m\u001b[0m\u001b[0m\n",
            "\u001b[0;32m/usr/local/lib/python3.10/dist-packages/spotipy/client.py\u001b[0m in \u001b[0;36m_internal_call\u001b[0;34m(self, method, url, payload, params)\u001b[0m\n\u001b[1;32m    245\u001b[0m         \u001b[0;32mif\u001b[0m \u001b[0;32mnot\u001b[0m \u001b[0murl\u001b[0m\u001b[0;34m.\u001b[0m\u001b[0mstartswith\u001b[0m\u001b[0;34m(\u001b[0m\u001b[0;34m\"http\"\u001b[0m\u001b[0;34m)\u001b[0m\u001b[0;34m:\u001b[0m\u001b[0;34m\u001b[0m\u001b[0;34m\u001b[0m\u001b[0m\n\u001b[1;32m    246\u001b[0m             \u001b[0murl\u001b[0m \u001b[0;34m=\u001b[0m \u001b[0mself\u001b[0m\u001b[0;34m.\u001b[0m\u001b[0mprefix\u001b[0m \u001b[0;34m+\u001b[0m \u001b[0murl\u001b[0m\u001b[0;34m\u001b[0m\u001b[0;34m\u001b[0m\u001b[0m\n\u001b[0;32m--> 247\u001b[0;31m         \u001b[0mheaders\u001b[0m \u001b[0;34m=\u001b[0m \u001b[0mself\u001b[0m\u001b[0;34m.\u001b[0m\u001b[0m_auth_headers\u001b[0m\u001b[0;34m(\u001b[0m\u001b[0;34m)\u001b[0m\u001b[0;34m\u001b[0m\u001b[0;34m\u001b[0m\u001b[0m\n\u001b[0m\u001b[1;32m    248\u001b[0m \u001b[0;34m\u001b[0m\u001b[0m\n\u001b[1;32m    249\u001b[0m         \u001b[0;32mif\u001b[0m \u001b[0;34m\"content_type\"\u001b[0m \u001b[0;32min\u001b[0m \u001b[0margs\u001b[0m\u001b[0;34m[\u001b[0m\u001b[0;34m\"params\"\u001b[0m\u001b[0;34m]\u001b[0m\u001b[0;34m:\u001b[0m\u001b[0;34m\u001b[0m\u001b[0;34m\u001b[0m\u001b[0m\n",
            "\u001b[0;32m/usr/local/lib/python3.10/dist-packages/spotipy/client.py\u001b[0m in \u001b[0;36m_auth_headers\u001b[0;34m(self)\u001b[0m\n\u001b[1;32m    236\u001b[0m             \u001b[0;32mreturn\u001b[0m \u001b[0;34m{\u001b[0m\u001b[0;34m}\u001b[0m\u001b[0;34m\u001b[0m\u001b[0;34m\u001b[0m\u001b[0m\n\u001b[1;32m    237\u001b[0m         \u001b[0;32mtry\u001b[0m\u001b[0;34m:\u001b[0m\u001b[0;34m\u001b[0m\u001b[0;34m\u001b[0m\u001b[0m\n\u001b[0;32m--> 238\u001b[0;31m             \u001b[0mtoken\u001b[0m \u001b[0;34m=\u001b[0m \u001b[0mself\u001b[0m\u001b[0;34m.\u001b[0m\u001b[0mauth_manager\u001b[0m\u001b[0;34m.\u001b[0m\u001b[0mget_access_token\u001b[0m\u001b[0;34m(\u001b[0m\u001b[0mas_dict\u001b[0m\u001b[0;34m=\u001b[0m\u001b[0;32mFalse\u001b[0m\u001b[0;34m)\u001b[0m\u001b[0;34m\u001b[0m\u001b[0;34m\u001b[0m\u001b[0m\n\u001b[0m\u001b[1;32m    239\u001b[0m         \u001b[0;32mexcept\u001b[0m \u001b[0mTypeError\u001b[0m\u001b[0;34m:\u001b[0m\u001b[0;34m\u001b[0m\u001b[0;34m\u001b[0m\u001b[0m\n\u001b[1;32m    240\u001b[0m             \u001b[0mtoken\u001b[0m \u001b[0;34m=\u001b[0m \u001b[0mself\u001b[0m\u001b[0;34m.\u001b[0m\u001b[0mauth_manager\u001b[0m\u001b[0;34m.\u001b[0m\u001b[0mget_access_token\u001b[0m\u001b[0;34m(\u001b[0m\u001b[0;34m)\u001b[0m\u001b[0;34m\u001b[0m\u001b[0;34m\u001b[0m\u001b[0m\n",
            "\u001b[0;32m/usr/local/lib/python3.10/dist-packages/spotipy/oauth2.py\u001b[0m in \u001b[0;36mget_access_token\u001b[0;34m(self, code, as_dict, check_cache)\u001b[0m\n\u001b[1;32m    533\u001b[0m         payload = {\n\u001b[1;32m    534\u001b[0m             \u001b[0;34m\"redirect_uri\"\u001b[0m\u001b[0;34m:\u001b[0m \u001b[0mself\u001b[0m\u001b[0;34m.\u001b[0m\u001b[0mredirect_uri\u001b[0m\u001b[0;34m,\u001b[0m\u001b[0;34m\u001b[0m\u001b[0;34m\u001b[0m\u001b[0m\n\u001b[0;32m--> 535\u001b[0;31m             \u001b[0;34m\"code\"\u001b[0m\u001b[0;34m:\u001b[0m \u001b[0mcode\u001b[0m \u001b[0;32mor\u001b[0m \u001b[0mself\u001b[0m\u001b[0;34m.\u001b[0m\u001b[0mget_auth_response\u001b[0m\u001b[0;34m(\u001b[0m\u001b[0;34m)\u001b[0m\u001b[0;34m,\u001b[0m\u001b[0;34m\u001b[0m\u001b[0;34m\u001b[0m\u001b[0m\n\u001b[0m\u001b[1;32m    536\u001b[0m             \u001b[0;34m\"grant_type\"\u001b[0m\u001b[0;34m:\u001b[0m \u001b[0;34m\"authorization_code\"\u001b[0m\u001b[0;34m,\u001b[0m\u001b[0;34m\u001b[0m\u001b[0;34m\u001b[0m\u001b[0m\n\u001b[1;32m    537\u001b[0m         }\n",
            "\u001b[0;32m/usr/local/lib/python3.10/dist-packages/spotipy/oauth2.py\u001b[0m in \u001b[0;36mget_auth_response\u001b[0;34m(self, open_browser)\u001b[0m\n\u001b[1;32m    488\u001b[0m             \u001b[0;31m# Only start a local http server if a port is specified\u001b[0m\u001b[0;34m\u001b[0m\u001b[0;34m\u001b[0m\u001b[0m\n\u001b[1;32m    489\u001b[0m             \u001b[0;32mif\u001b[0m \u001b[0mredirect_port\u001b[0m\u001b[0;34m:\u001b[0m\u001b[0;34m\u001b[0m\u001b[0;34m\u001b[0m\u001b[0m\n\u001b[0;32m--> 490\u001b[0;31m                 \u001b[0;32mreturn\u001b[0m \u001b[0mself\u001b[0m\u001b[0;34m.\u001b[0m\u001b[0m_get_auth_response_local_server\u001b[0m\u001b[0;34m(\u001b[0m\u001b[0mredirect_port\u001b[0m\u001b[0;34m)\u001b[0m\u001b[0;34m\u001b[0m\u001b[0;34m\u001b[0m\u001b[0m\n\u001b[0m\u001b[1;32m    491\u001b[0m             \u001b[0;32melse\u001b[0m\u001b[0;34m:\u001b[0m\u001b[0;34m\u001b[0m\u001b[0;34m\u001b[0m\u001b[0m\n\u001b[1;32m    492\u001b[0m                 logger.warning('Using `%s` as redirect URI without a port. '\n",
            "\u001b[0;32m/usr/local/lib/python3.10/dist-packages/spotipy/oauth2.py\u001b[0m in \u001b[0;36m_get_auth_response_local_server\u001b[0;34m(self, redirect_port)\u001b[0m\n\u001b[1;32m    457\u001b[0m         \u001b[0mserver\u001b[0m \u001b[0;34m=\u001b[0m \u001b[0mstart_local_http_server\u001b[0m\u001b[0;34m(\u001b[0m\u001b[0mredirect_port\u001b[0m\u001b[0;34m)\u001b[0m\u001b[0;34m\u001b[0m\u001b[0;34m\u001b[0m\u001b[0m\n\u001b[1;32m    458\u001b[0m         \u001b[0mself\u001b[0m\u001b[0;34m.\u001b[0m\u001b[0m_open_auth_url\u001b[0m\u001b[0;34m(\u001b[0m\u001b[0;34m)\u001b[0m\u001b[0;34m\u001b[0m\u001b[0;34m\u001b[0m\u001b[0m\n\u001b[0;32m--> 459\u001b[0;31m         \u001b[0mserver\u001b[0m\u001b[0;34m.\u001b[0m\u001b[0mhandle_request\u001b[0m\u001b[0;34m(\u001b[0m\u001b[0;34m)\u001b[0m\u001b[0;34m\u001b[0m\u001b[0;34m\u001b[0m\u001b[0m\n\u001b[0m\u001b[1;32m    460\u001b[0m \u001b[0;34m\u001b[0m\u001b[0m\n\u001b[1;32m    461\u001b[0m         \u001b[0;32mif\u001b[0m \u001b[0mserver\u001b[0m\u001b[0;34m.\u001b[0m\u001b[0merror\u001b[0m \u001b[0;32mis\u001b[0m \u001b[0;32mnot\u001b[0m \u001b[0;32mNone\u001b[0m\u001b[0;34m:\u001b[0m\u001b[0;34m\u001b[0m\u001b[0;34m\u001b[0m\u001b[0m\n",
            "\u001b[0;32m/usr/lib/python3.10/socketserver.py\u001b[0m in \u001b[0;36mhandle_request\u001b[0;34m(self)\u001b[0m\n\u001b[1;32m    292\u001b[0m \u001b[0;34m\u001b[0m\u001b[0m\n\u001b[1;32m    293\u001b[0m             \u001b[0;32mwhile\u001b[0m \u001b[0;32mTrue\u001b[0m\u001b[0;34m:\u001b[0m\u001b[0;34m\u001b[0m\u001b[0;34m\u001b[0m\u001b[0m\n\u001b[0;32m--> 294\u001b[0;31m                 \u001b[0mready\u001b[0m \u001b[0;34m=\u001b[0m \u001b[0mselector\u001b[0m\u001b[0;34m.\u001b[0m\u001b[0mselect\u001b[0m\u001b[0;34m(\u001b[0m\u001b[0mtimeout\u001b[0m\u001b[0;34m)\u001b[0m\u001b[0;34m\u001b[0m\u001b[0;34m\u001b[0m\u001b[0m\n\u001b[0m\u001b[1;32m    295\u001b[0m                 \u001b[0;32mif\u001b[0m \u001b[0mready\u001b[0m\u001b[0;34m:\u001b[0m\u001b[0;34m\u001b[0m\u001b[0;34m\u001b[0m\u001b[0m\n\u001b[1;32m    296\u001b[0m                     \u001b[0;32mreturn\u001b[0m \u001b[0mself\u001b[0m\u001b[0;34m.\u001b[0m\u001b[0m_handle_request_noblock\u001b[0m\u001b[0;34m(\u001b[0m\u001b[0;34m)\u001b[0m\u001b[0;34m\u001b[0m\u001b[0;34m\u001b[0m\u001b[0m\n",
            "\u001b[0;32m/usr/lib/python3.10/selectors.py\u001b[0m in \u001b[0;36mselect\u001b[0;34m(self, timeout)\u001b[0m\n\u001b[1;32m    414\u001b[0m         \u001b[0mready\u001b[0m \u001b[0;34m=\u001b[0m \u001b[0;34m[\u001b[0m\u001b[0;34m]\u001b[0m\u001b[0;34m\u001b[0m\u001b[0;34m\u001b[0m\u001b[0m\n\u001b[1;32m    415\u001b[0m         \u001b[0;32mtry\u001b[0m\u001b[0;34m:\u001b[0m\u001b[0;34m\u001b[0m\u001b[0;34m\u001b[0m\u001b[0m\n\u001b[0;32m--> 416\u001b[0;31m             \u001b[0mfd_event_list\u001b[0m \u001b[0;34m=\u001b[0m \u001b[0mself\u001b[0m\u001b[0;34m.\u001b[0m\u001b[0m_selector\u001b[0m\u001b[0;34m.\u001b[0m\u001b[0mpoll\u001b[0m\u001b[0;34m(\u001b[0m\u001b[0mtimeout\u001b[0m\u001b[0;34m)\u001b[0m\u001b[0;34m\u001b[0m\u001b[0;34m\u001b[0m\u001b[0m\n\u001b[0m\u001b[1;32m    417\u001b[0m         \u001b[0;32mexcept\u001b[0m \u001b[0mInterruptedError\u001b[0m\u001b[0;34m:\u001b[0m\u001b[0;34m\u001b[0m\u001b[0;34m\u001b[0m\u001b[0m\n\u001b[1;32m    418\u001b[0m             \u001b[0;32mreturn\u001b[0m \u001b[0mready\u001b[0m\u001b[0;34m\u001b[0m\u001b[0;34m\u001b[0m\u001b[0m\n",
            "\u001b[0;31mKeyboardInterrupt\u001b[0m: "
          ]
        }
      ]
    },
    {
      "cell_type": "code",
      "source": [
        "def makeSharedPlaylist(userOne, userTwo, URI):\n",
        "  sharedSongIDs = commonSongs_returnIDs(userOne, userTwo)\n",
        "  s.playlist_add_items(URI, sharedSongIDs)"
      ],
      "metadata": {
        "id": "QaVWto4H-LNN"
      },
      "execution_count": 68,
      "outputs": []
    }
  ]
}