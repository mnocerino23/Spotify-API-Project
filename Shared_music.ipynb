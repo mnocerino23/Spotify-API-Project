{
  "nbformat": 4,
  "nbformat_minor": 0,
  "metadata": {
    "colab": {
      "provenance": [],
      "authorship_tag": "ABX9TyPfewGR+UtYh6Xfr/VC67jR",
      "include_colab_link": true
    },
    "kernelspec": {
      "name": "python3",
      "display_name": "Python 3"
    },
    "language_info": {
      "name": "python"
    }
  },
  "cells": [
    {
      "cell_type": "markdown",
      "metadata": {
        "id": "view-in-github",
        "colab_type": "text"
      },
      "source": [
        "<a href=\"https://colab.research.google.com/github/mnocerino23/Spotify-API-Project/blob/main/Shared_music.ipynb\" target=\"_parent\"><img src=\"https://colab.research.google.com/assets/colab-badge.svg\" alt=\"Open In Colab\"/></a>"
      ]
    },
    {
      "cell_type": "markdown",
      "source": [
        "# This Python program will help users find common songs and artists that their friends also know."
      ],
      "metadata": {
        "id": "Wc6jkedoE9em"
      }
    },
    {
      "cell_type": "code",
      "source": [
        "#download spotipy, a library for interacting with the spotify API, and\n",
        "#import it into the notebook\n",
        "\n",
        "!pip install spotipy\n",
        "import spotipy as spot\n",
        "from spotipy.oauth2 import SpotifyClientCredentials\n"
      ],
      "metadata": {
        "colab": {
          "base_uri": "https://localhost:8080/"
        },
        "id": "3KHXgqULFXGH",
        "outputId": "7a2562e8-12c6-4c7b-cf06-3e1ac0f93a37"
      },
      "execution_count": 1,
      "outputs": [
        {
          "output_type": "stream",
          "name": "stdout",
          "text": [
            "Collecting spotipy\n",
            "  Downloading spotipy-2.23.0-py3-none-any.whl (29 kB)\n",
            "Collecting redis>=3.5.3 (from spotipy)\n",
            "  Downloading redis-5.0.2-py3-none-any.whl (251 kB)\n",
            "\u001b[2K     \u001b[90m━━━━━━━━━━━━━━━━━━━━━━━━━━━━━━━━━━━━━━━━\u001b[0m \u001b[32m251.7/251.7 kB\u001b[0m \u001b[31m5.7 MB/s\u001b[0m eta \u001b[36m0:00:00\u001b[0m\n",
            "\u001b[?25hRequirement already satisfied: requests>=2.25.0 in /usr/local/lib/python3.10/dist-packages (from spotipy) (2.31.0)\n",
            "Requirement already satisfied: six>=1.15.0 in /usr/local/lib/python3.10/dist-packages (from spotipy) (1.16.0)\n",
            "Requirement already satisfied: urllib3>=1.26.0 in /usr/local/lib/python3.10/dist-packages (from spotipy) (2.0.7)\n",
            "Requirement already satisfied: async-timeout>=4.0.3 in /usr/local/lib/python3.10/dist-packages (from redis>=3.5.3->spotipy) (4.0.3)\n",
            "Requirement already satisfied: charset-normalizer<4,>=2 in /usr/local/lib/python3.10/dist-packages (from requests>=2.25.0->spotipy) (3.3.2)\n",
            "Requirement already satisfied: idna<4,>=2.5 in /usr/local/lib/python3.10/dist-packages (from requests>=2.25.0->spotipy) (3.6)\n",
            "Requirement already satisfied: certifi>=2017.4.17 in /usr/local/lib/python3.10/dist-packages (from requests>=2.25.0->spotipy) (2024.2.2)\n",
            "Installing collected packages: redis, spotipy\n",
            "Successfully installed redis-5.0.2 spotipy-2.23.0\n"
          ]
        }
      ]
    },
    {
      "cell_type": "code",
      "execution_count": 13,
      "metadata": {
        "id": "AcXJLkVOE5Ss"
      },
      "outputs": [],
      "source": [
        "#first, we authorize the Spotify API using token from Spotify for developers website"
      ]
    },
    {
      "cell_type": "code",
      "source": [
        "client_id = 'aaea76f3b380482ca988ddb13ee52876'\n",
        "client_secret = 'b477118d2f66474a97e4499612d6daf7'"
      ],
      "metadata": {
        "id": "c4KiU7O7F5RU"
      },
      "execution_count": 14,
      "outputs": []
    },
    {
      "cell_type": "code",
      "source": [
        "MichaelNocerino_uri = 'spotify:user:12143795131'\n",
        "\n",
        "#My personal user id is 12143795131\n",
        "s = spot.Spotify(client_credentials_manager = SpotifyClientCredentials(client_id = 'ae974bd565af4a1382abeb31c49db048'\n",
        ", client_secret= '6c79d8a47c4e4a499fa565abbe0f3b09'))"
      ],
      "metadata": {
        "id": "ccbZTgl8HJE1"
      },
      "execution_count": 15,
      "outputs": []
    },
    {
      "cell_type": "code",
      "source": [
        "#commonSongs returns the shared songs known by the two individuals\n",
        "\n",
        "def commonSongs(personOne, personTwo):\n",
        "\n",
        "  personOneResults = s.user_playlists(personOne)\n",
        "  personOnePlaylists = []\n",
        "  for dictionary in personOneResults['items']:\n",
        "    if 'id' in dictionary.keys():\n",
        "      personOnePlaylists.append(dictionary['id'])\n",
        "\n",
        "  personOneSongs = []\n",
        "  for playlist in personOnePlaylists:\n",
        "    s_playlist = s.user_playlist_tracks(personOne, playlist)\n",
        "\n",
        "    #s_playlist['items'] is a list of dictionarys\n",
        "    for track in s_playlist['items']:\n",
        "      if track['track']['name'] not in personOneSongs:\n",
        "        personOneSongs.append(track['track']['name'])\n",
        "\n",
        "  personTwoResults = s.user_playlists(personTwo)\n",
        "  personTwoPlaylists = []\n",
        "  for dictionary in personTwoResults['items']:\n",
        "    if 'id' in dictionary.keys():\n",
        "      personTwoPlaylists.append(dictionary['id'])\n",
        "\n",
        "  personTwoSongs = []\n",
        "  for playlist in personTwoPlaylists:\n",
        "    s_playlist = s.user_playlist_tracks(personTwo, playlist)\n",
        "\n",
        "    #s_playlist['items'] is a list of dictionarys\n",
        "    for track in s_playlist['items']:\n",
        "      if track['track']['name'] not in personTwoSongs:\n",
        "        personTwoSongs.append(track['track']['name'])\n",
        "\n",
        "\n",
        "  #now scan the two artist lists with a double for loop to find intersection\n",
        "  #of the two sets\n",
        "  shared = []\n",
        "  for song in personOneSongs:\n",
        "    if song in personTwoSongs:\n",
        "      shared.append(song)\n",
        "  #output the shared artists\n",
        "  print(len(shared), \"Shared Songs:\")\n",
        "  for item in shared:\n",
        "    print(item)\n"
      ],
      "metadata": {
        "id": "33pGvyLDHnn3"
      },
      "execution_count": 16,
      "outputs": []
    },
    {
      "cell_type": "code",
      "source": [
        "#commonArtists returns the common Artists known by the two individuals\n",
        "#personOne, personTwo are integers that represent the userID of the individual\n",
        "\n",
        "def commonArtists(personOne, personTwo):\n",
        "\n",
        "  personOneResults = s.user_playlists(personOne)\n",
        "  personOnePlaylists = []\n",
        "  for dictionary in personOneResults['items']:\n",
        "    if 'id' in dictionary.keys():\n",
        "      personOnePlaylists.append(dictionary['id'])\n",
        "\n",
        "  personOneArtists = []\n",
        "  for playlist in personOnePlaylists:\n",
        "    s_playlist = s.user_playlist_tracks(personOne, playlist)\n",
        "\n",
        "    #s_playlist['items'] is a list of dictionarys\n",
        "    for track in s_playlist['items']:\n",
        "      if track['track']['album']['artists'][0]['name'] not in personOneArtists:\n",
        "        personOneArtists.append(track['track']['album']['artists'][0]['name'])\n",
        "\n",
        "  personTwoResults = s.user_playlists(personTwo)\n",
        "  personTwoPlaylists = []\n",
        "  for dictionary in personTwoResults['items']:\n",
        "    if 'id' in dictionary.keys():\n",
        "      personTwoPlaylists.append(dictionary['id'])\n",
        "\n",
        "  personTwoArtists = []\n",
        "  for playlist in personTwoPlaylists:\n",
        "    s_playlist = s.user_playlist_tracks(personTwo, playlist)\n",
        "\n",
        "    #s_playlist['items'] is a list of dictionarys\n",
        "    for track in s_playlist['items']:\n",
        "      if track['track']['album']['artists'][0]['name'] not in personTwoArtists:\n",
        "        personTwoArtists.append(track['track']['album']['artists'][0]['name'])\n",
        "\n",
        "\n",
        "  #now scan the two artist lists with a double for loop to find intersection\n",
        "  #of the two sets\n",
        "  shared = []\n",
        "  for artist in personOneArtists:\n",
        "    if artist in personTwoArtists:\n",
        "      shared.append(artist)\n",
        "  #output the shared artists\n",
        "  print(len(shared), \"Shared Artists:\")\n",
        "  for item in shared:\n",
        "    print(item)"
      ],
      "metadata": {
        "id": "Y5e6jQXIHxqO"
      },
      "execution_count": 17,
      "outputs": []
    },
    {
      "cell_type": "code",
      "source": [
        "commonArtists(12143795131, 'mocolvin')"
      ],
      "metadata": {
        "colab": {
          "base_uri": "https://localhost:8080/"
        },
        "id": "1v4TwNiRNWqV",
        "outputId": "b6c25468-8c50-4056-e212-fb8d75522b2f"
      },
      "execution_count": 7,
      "outputs": [
        {
          "output_type": "stream",
          "name": "stdout",
          "text": [
            "63 Shared Artists:\n",
            "Cocteau Twins\n",
            "Slowdive\n",
            "Darondo\n",
            "A Tribe Called Quest\n",
            "Khruangbin\n",
            "Various Artists\n",
            "alex_g_offline\n",
            "Alex G\n",
            "Labi Siffre\n",
            "Kanye West\n",
            "The Beatles\n",
            "Men I Trust\n",
            "The Velvet Underground\n",
            "Iron & Wine\n",
            "Cotton Jones\n",
            "Mac DeMarco\n",
            "Elliott Smith\n",
            "Mazzy Star\n",
            "Yo La Tengo\n",
            "Courtney Barnett\n",
            "Fleetwood Mac\n",
            "Stardust\n",
            "Arctic Monkeys\n",
            "Pixies\n",
            "J.J. Cale\n",
            "The Shins\n",
            "Grateful Dead\n",
            "Shakey Graves\n",
            "Feeling Blew\n",
            "David Bowie\n",
            "The Smiths\n",
            "Calvin Harris\n",
            "Drake\n",
            "JAY-Z\n",
            "Kendrick Lamar\n",
            "El Ten Eleven\n",
            "Dorothy Ashby\n",
            "Jackson Browne\n",
            "Sharon Van Etten\n",
            "Silk Rhodes\n",
            "alt-J\n",
            "Bruce Springsteen\n",
            "Talking Heads\n",
            "DISPATCH\n",
            "The Police\n",
            "The Clash\n",
            "Tom Petty and the Heartbreakers\n",
            "Led Zeppelin\n",
            "The Rolling Stones\n",
            "Menahan Street Band\n",
            "John Mayer\n",
            "Hozier\n",
            "RÜFÜS DU SOL\n",
            "50 Cent\n",
            "Tame Impala\n",
            "Nina Simone\n",
            "The Replacements\n",
            "Lorde\n",
            "Beach House\n",
            "Gorillaz\n",
            "070 Shake\n",
            "Sade\n",
            "Hailu Mergia\n"
          ]
        }
      ]
    },
    {
      "cell_type": "code",
      "source": [
        "commonArtists(12143795131, 'catherine_joy')"
      ],
      "metadata": {
        "colab": {
          "base_uri": "https://localhost:8080/"
        },
        "id": "M6Yx4UvAb8GQ",
        "outputId": "4114b8f5-b8cc-46c3-df1d-705450fe27cb"
      },
      "execution_count": 8,
      "outputs": [
        {
          "output_type": "stream",
          "name": "stdout",
          "text": [
            "87 Shared Artists:\n",
            "Cocteau Twins\n",
            "Michael Nau\n",
            "The Flaming Lips\n",
            "MF DOOM\n",
            "Khruangbin\n",
            "Moniker\n",
            "Various Artists\n",
            "Alex G\n",
            "Wilco\n",
            "Kanye West\n",
            "Van Morrison\n",
            "The Beatles\n",
            "Men I Trust\n",
            "The Velvet Underground\n",
            "Goth Babe\n",
            "Cotton Jones\n",
            "Kurt Vile\n",
            "George Harrison\n",
            "Townes Van Zandt\n",
            "Bob Dylan\n",
            "Mac DeMarco\n",
            "Ted Lucas\n",
            "Elliott Smith\n",
            "Neutral Milk Hotel\n",
            "Gregory Isaacs\n",
            "Sashamon\n",
            "Bob Marley & The Wailers\n",
            "Nick Drake\n",
            "Jack Johnson\n",
            "Rayland Baxter\n",
            "Smokey Robinson & The Miracles\n",
            "Courtney Barnett\n",
            "Simon & Garfunkel\n",
            "Fleetwood Mac\n",
            "Beirut\n",
            "La Femme\n",
            "Happy Jawbone Family Band\n",
            "Kishi Bashi\n",
            "Home\n",
            "The Avalanches\n",
            "Fred again..\n",
            "Arctic Monkeys\n",
            "The Shins\n",
            "Grateful Dead\n",
            "Shakey Graves\n",
            "Old Dominion\n",
            "Tyler Childers\n",
            "Ariel Pink\n",
            "Nico\n",
            "The Smiths\n",
            "Edward Sharpe & The Magnetic Zeros\n",
            "Sophie Ellis-Bextor\n",
            "Maribou State\n",
            "Daft Punk\n",
            "Supertramp\n",
            "Air\n",
            "The Microphones\n",
            "Steve Miller Band\n",
            "Parcels\n",
            "Talking Heads\n",
            "Billy Bragg\n",
            "DISPATCH\n",
            "Dr. Dog\n",
            "Led Zeppelin\n",
            "Scoundrels\n",
            "The Rolling Stones\n",
            "Paul Simon\n",
            "The Chicks\n",
            "Paul McCartney\n",
            "Morgan Wallen\n",
            "Disclosure\n",
            "John Mayer\n",
            "RÜFÜS DU SOL\n",
            "spüke\n",
            "Tame Impala\n",
            "Nina Simone\n",
            "Lorde\n",
            "Beach House\n",
            "Harry Styles\n",
            "Gorillaz\n",
            "Bahamas\n",
            "Penguin Cafe Orchestra\n",
            "Blitzen Trapper\n",
            "The Rah Band\n",
            "The Pioneers\n",
            "Hailu Mergia\n",
            "Sublime\n"
          ]
        }
      ]
    },
    {
      "cell_type": "code",
      "source": [
        "commonSongs(12143795131, 'catherine_joy')"
      ],
      "metadata": {
        "colab": {
          "base_uri": "https://localhost:8080/"
        },
        "id": "FuM__zFCTFfZ",
        "outputId": "81ea4db3-21d6-4dd5-9bb0-c6ec11b23db9"
      },
      "execution_count": 9,
      "outputs": [
        {
          "output_type": "stream",
          "name": "stdout",
          "text": [
            "82 Shared Songs:\n",
            "Heaven or Las Vegas\n",
            "Carolyn's Fingers\n",
            "Ocean Blue\n",
            "I Wonder\n",
            "I Found a Reason - 2015 Remaster\n",
            "I Found a Reason - Demo Version; 2015 Remaster\n",
            "Ride Into The Sun - \"1969\" / 2014 Mix\n",
            "How Lucky\n",
            "Maralou\n",
            "The Spinning Wheel\n",
            "Watching Him Fade Away\n",
            "Golden Slumbers - Remastered 2009\n",
            "Two Of Us - Remastered 2009\n",
            "Cool Down The Pace\n",
            "Necta (Butterfly)\n",
            "Place To Be\n",
            "Subplots\n",
            "My Old Man\n",
            "Did Ye Get Healed\n",
            "Postcards from Italy\n",
            "Future Games\n",
            "Girl from the North Country\n",
            "Fireflies Made Out of Dust\n",
            "We're Finally Landing\n",
            "Mad Sounds\n",
            "Waiting for You (Bonus Track)\n",
            "Pink Moon\n",
            "New Slang - 2021 Remaster\n",
            "Tomorrow\n",
            "Feathered Indians\n",
            "One More Love Song\n",
            "Yellow Eyes\n",
            "Frankly, Mr. Shankly - 2011 Remaster\n",
            "The Boxer\n",
            "Love Changes\n",
            "Home\n",
            "Rick's New Haircut #1\n",
            "Murder On the Dance Floor\n",
            "I Really Love You\n",
            "Turnmills\n",
            "Scenic World\n",
            "My Family's Role in the World Revolution\n",
            "Canary Islands\n",
            "El Condor Pasa (If I Could)\n",
            "These Days\n",
            "Playground Love\n",
            "I Want Wind to Blow\n",
            "None but the Rain\n",
            "From The Morning\n",
            "Family and Genus\n",
            "Delilah (pull me out of this)\n",
            "This Must Be the Place (Naive Melody) - 2005 Remaster\n",
            "California Stars\n",
            "Gone The Bells\n",
            "Wasting Time\n",
            "Sexy Weekend\n",
            "Tangerine - Remaster\n",
            "I've Got to Tell You About It\n",
            "Don't Think Twice, It's All Right\n",
            "Cowboy Take Me Away\n",
            "Band On The Run - 2010 Remaster\n",
            "Underwater\n",
            "Emanate\n",
            "April Come She Will\n",
            "H.f.g.w (Canyons Drunken Rage)\n",
            "The Fairest Of The Seasons\n",
            "Shot Reverse Shot\n",
            "See-Line Woman - Riton Remix\n",
            "The Hours\n",
            "Cherry\n",
            "Where Angels Fear To Tread\n",
            "Empire Ants (feat. Little Dragon)\n",
            "New Gold (feat. Tame Impala and Bootie Brown)\n",
            "Furr\n",
            "Messages from the Stars\n",
            "Boss Festival\n",
            "Blood Red Sentimental Blues\n",
            "Herefore - Roisto Remix\n",
            "Sintayehu\n",
            "Please, Please, Please, Let Me Get What I Want - 2011 Remaster\n",
            "Face to Face\n",
            "Badfish\n"
          ]
        }
      ]
    },
    {
      "cell_type": "code",
      "source": [
        "#modify the common Songs function slightly so that it returns a list\n",
        "#the song ids as opposed to the song title\n",
        "\n",
        "def commonSongs_returnIDs(personOne, personTwo):\n",
        "\n",
        "  personOneResults = s.user_playlists(personOne)\n",
        "  personOnePlaylists = []\n",
        "  for dictionary in personOneResults['items']:\n",
        "    if 'id' in dictionary.keys():\n",
        "      personOnePlaylists.append(dictionary['id'])\n",
        "\n",
        "  personOneSongs = []\n",
        "  for playlist in personOnePlaylists:\n",
        "    s_playlist = s.user_playlist_tracks(personOne, playlist)\n",
        "\n",
        "    #s_playlist['items'] is a list of dictionarys\n",
        "    for track in s_playlist['items']:\n",
        "      if track['track']['id'] not in personOneSongs:\n",
        "        personOneSongs.append(track['track']['id'])\n",
        "\n",
        "  personTwoResults = s.user_playlists(personTwo)\n",
        "  personTwoPlaylists = []\n",
        "  for dictionary in personTwoResults['items']:\n",
        "    if 'id' in dictionary.keys():\n",
        "      personTwoPlaylists.append(dictionary['id'])\n",
        "\n",
        "  personTwoSongs = []\n",
        "  for playlist in personTwoPlaylists:\n",
        "    s_playlist = s.user_playlist_tracks(personTwo, playlist)\n",
        "\n",
        "    #s_playlist['items'] is a list of dictionarys\n",
        "    for track in s_playlist['items']:\n",
        "      if track['track']['id'] not in personTwoSongs:\n",
        "        personTwoSongs.append(track['track']['id'])\n",
        "\n",
        "\n",
        "  #now scan the two artist lists with a double for loop to find intersection\n",
        "  #of the two sets\n",
        "  shared = []\n",
        "  for song in personOneSongs:\n",
        "    if song in personTwoSongs:\n",
        "      shared.append(song)\n",
        "  #output the shared artists\n",
        "  #print(len(shared), \"Shared Songs:\")\n",
        "  #for item in shared:\n",
        "    #print(item)\n",
        "  return shared"
      ],
      "metadata": {
        "id": "lbmYBj7g-u5N"
      },
      "execution_count": 18,
      "outputs": []
    },
    {
      "cell_type": "code",
      "source": [
        "#test the function\n",
        "commonSongs_returnIDs(12143795131, 'catherine_joy')"
      ],
      "metadata": {
        "colab": {
          "base_uri": "https://localhost:8080/"
        },
        "id": "sVv1IO4E_JMr",
        "outputId": "18b040db-bfc4-4496-af4b-d87b3aadf377"
      },
      "execution_count": 11,
      "outputs": [
        {
          "output_type": "execute_result",
          "data": {
            "text/plain": [
              "['0AxZUYeQ9bZwSdt1LmZuok',\n",
              " '7I5TgzRBPcnUafTJaZFbfy',\n",
              " '5BzGvBwBL3y2WSGml0rkLH',\n",
              " '63OJHHu2ambZAvdrvhdT2b',\n",
              " '3EyGPeNd6Y8ZMUcZQR1BvG',\n",
              " '7qJreNMHmeV7Ezs4y9eddQ',\n",
              " '4iK3yOQKoby2b9gvCmUwsR',\n",
              " '6D7nHrBXHBHZqxlEBvofFT',\n",
              " '0yR4SV1qBggRu6kNJJ3Am9',\n",
              " '2QzKAF0y1BQhxwg8N05Uog',\n",
              " '01SfTM5nfCou5gQL70r6gs',\n",
              " '0CaBBQsaAiRHhiLmzi7ZRp',\n",
              " '4llIZen1Cn4mi3DJm2Lqlz',\n",
              " '2ZUjks7eu5jmj2qnWLm8qm',\n",
              " '5QUeSXjTMHbq1fW5da2waF',\n",
              " '0xf9XvTqzMSqqN7Vpqybsd',\n",
              " '4ewRM5SP4YhmlfKhi5uSjS',\n",
              " '38S3dnbMSSUvLZxwKPTsx1',\n",
              " '7H0UxIN751StFi2tznmHlg',\n",
              " '021JldNpXGATNSC69edcBT',\n",
              " '1aayZc3JciIs2GhZcSlCrw',\n",
              " '75n7mraeMycQOl2sDGYaTe',\n",
              " '5Uyn3WpyL7og1a0qEt9XLM',\n",
              " '4KROoGIaPaR1pBHPnR3bwC',\n",
              " '0NslHuacjxQYfUTOW3HCIV',\n",
              " '47KDDZgFiX1w6RFOuLXsSn',\n",
              " '2tgQaL85WoRfgEa4hFQgrE',\n",
              " '0v8J17a6cO0wWp7z731GTd',\n",
              " '3HOXNIj8NjlgjQiBd3YVIi',\n",
              " '1qIagqll7ZcgmiLTrtSvKc',\n",
              " '76TZCvJ8GitQ2FA1q5dKu0',\n",
              " '07pzNOLc6UH8dKYMje4SBX',\n",
              " '516O5avIOMp7ZIvrKuHuQl',\n",
              " '4LrOmj6MoxMdCLf2zJnkq0',\n",
              " '4jQqM4NI79HEcWHUJb8Hvf',\n",
              " '7j9UhvhILH3zR1eEGLSksU',\n",
              " '5m4o1robU6yTvFDXXSrH0F',\n",
              " '7jG3PmcKhbrhVW43s9SxdC',\n",
              " '7MuU7UbVaKyu4HkHBoHwrD',\n",
              " '1eN42Q7IWRzRBq8eW2Y2TE',\n",
              " '3uCkIqD0VzQUijbs8WIizs',\n",
              " '052z2UsE2wPrHsBJ9tly0g',\n",
              " '1bAZV1EBTRi9t1cVg75i8t',\n",
              " '5X0ax3W4acNnoMnHqXtcAb',\n",
              " '6meH4I9A4WZtD3z8hnQKqr',\n",
              " '5lJ1NMNz6ymwdaL9aejm8e',\n",
              " '0Ftrkz2waaHcjKb4qYvLmz',\n",
              " '6aBUnkXuCEQQHAlTokv9or',\n",
              " '58O3Mm4oajmOp24fofYURh',\n",
              " '5nb0BEZqsmQYseSPJ932K8',\n",
              " '5yCrrN0GiJjHkRJGWw5D13',\n",
              " '3tjnCI2F64MOrRzi3NgXCA',\n",
              " '4ywWJqYKOwaVVh9xXARWUS',\n",
              " '7zGTy1hKWrcAbW3pnR6Gw4',\n",
              " '2WOjLF83vqjit2Zh4B69V3',\n",
              " '3rXCZRMiMZp0feGcYXpwYX',\n",
              " '1H4idkmruFoJBg1DvUv2tY',\n",
              " '5ZvHcR4OSwvEV5IhigbTOT',\n",
              " '6otMqBmdJD8V7rAUnLMs1D',\n",
              " '739sLmfUkVFoyPtb0C3263',\n",
              " '0djZ2ndRfAL69WYNra5jRC',\n",
              " '2wxeIcUPu0hdlB8pFsxSAi',\n",
              " '3YX4WviUJiDEov6IrAdFYD',\n",
              " '5b6qqB5nvWRrin8e2cWDQY',\n",
              " '2BnoxYpCeEiDQSUNx1TZpf',\n",
              " '3UTKuCUcoA2HQksp7veM6C',\n",
              " '2IOFZdYYkFxEHVz1w34PoL',\n",
              " '1ZqeykOaDmjkldzs7XGR4b',\n",
              " '3a6PN6BRB8PP3ms48s7kU1',\n",
              " '64dLd6rVqDLtkXFYrEUHIU',\n",
              " '7INhVPCEIaT1GhtDYospGK',\n",
              " '6lYY2HktYKpV1pUamfRlU1',\n",
              " '6vZhs9uND5JfZV5apbjJqo',\n",
              " '7mgxJci0i2wKTTC7n1zxoE',\n",
              " '2wMmUvfrkpFJ4ovjpMNVmL',\n",
              " '6BrMEbPSSj55nQhkgf6DnE',\n",
              " '7v9Q0dAb9t7h8gJOkcJHay']"
            ]
          },
          "metadata": {},
          "execution_count": 11
        }
      ]
    },
    {
      "cell_type": "code",
      "source": [
        "import spotipy\n",
        "from spotipy.oauth2 import SpotifyOAuth\n",
        "\n",
        "redirect_uri = \"http://127.0.0.1:8888/callback\"  #redirect URI for authentication\n",
        "\n",
        "# Create a new playlist\n",
        "my_user_id = 12143795131\n",
        "scope = 'playlist-modify-public'\n",
        "\n",
        "# Authenticate and create the Spotipy object\n",
        "sp = spotipy.Spotify(auth_manager=SpotifyOAuth(client_id,\n",
        "                                               client_secret,\n",
        "                                               redirect_uri,\n",
        "                                               scope='playlist-modify-public'))\n",
        "sp.user_playlist_create(my_user_id, \"Shared Playlist\", public=True)\n",
        "\n",
        "# Add songs to the playlist\n",
        "#tracks = commonSongs_returnIDs(my_user_id, 'catherine_joy')\n",
        "#sp.playlist_add_items(playlist, tracks)"
      ],
      "metadata": {
        "colab": {
          "base_uri": "https://localhost:8080/",
          "height": 356
        },
        "id": "ARMNDVC1CN79",
        "outputId": "a1ecc007-6635-4ca5-8f1b-7fa3e6ca872a"
      },
      "execution_count": 20,
      "outputs": [
        {
          "output_type": "error",
          "ename": "KeyboardInterrupt",
          "evalue": "",
          "traceback": [
            "\u001b[0;31m---------------------------------------------------------------------------\u001b[0m",
            "\u001b[0;31mKeyboardInterrupt\u001b[0m                         Traceback (most recent call last)",
            "\u001b[0;32m<ipython-input-20-f194073eb99c>\u001b[0m in \u001b[0;36m<cell line: 15>\u001b[0;34m()\u001b[0m\n\u001b[1;32m     13\u001b[0m                                                \u001b[0mredirect_uri\u001b[0m\u001b[0;34m,\u001b[0m\u001b[0;34m\u001b[0m\u001b[0;34m\u001b[0m\u001b[0m\n\u001b[1;32m     14\u001b[0m                                                scope='playlist-modify-public'))\n\u001b[0;32m---> 15\u001b[0;31m \u001b[0msp\u001b[0m\u001b[0;34m.\u001b[0m\u001b[0muser_playlist_create\u001b[0m\u001b[0;34m(\u001b[0m\u001b[0mmy_user_id\u001b[0m\u001b[0;34m,\u001b[0m \u001b[0;34m\"Shared Playlist\"\u001b[0m\u001b[0;34m,\u001b[0m \u001b[0mpublic\u001b[0m\u001b[0;34m=\u001b[0m\u001b[0;32mTrue\u001b[0m\u001b[0;34m)\u001b[0m\u001b[0;34m\u001b[0m\u001b[0;34m\u001b[0m\u001b[0m\n\u001b[0m\u001b[1;32m     16\u001b[0m \u001b[0;34m\u001b[0m\u001b[0m\n\u001b[1;32m     17\u001b[0m \u001b[0;31m# Add songs to the playlist\u001b[0m\u001b[0;34m\u001b[0m\u001b[0;34m\u001b[0m\u001b[0m\n",
            "\u001b[0;32m/usr/local/lib/python3.10/dist-packages/spotipy/client.py\u001b[0m in \u001b[0;36muser_playlist_create\u001b[0;34m(self, user, name, public, collaborative, description)\u001b[0m\n\u001b[1;32m    816\u001b[0m         }\n\u001b[1;32m    817\u001b[0m \u001b[0;34m\u001b[0m\u001b[0m\n\u001b[0;32m--> 818\u001b[0;31m         \u001b[0;32mreturn\u001b[0m \u001b[0mself\u001b[0m\u001b[0;34m.\u001b[0m\u001b[0m_post\u001b[0m\u001b[0;34m(\u001b[0m\u001b[0;34m\"users/%s/playlists\"\u001b[0m \u001b[0;34m%\u001b[0m \u001b[0;34m(\u001b[0m\u001b[0muser\u001b[0m\u001b[0;34m,\u001b[0m\u001b[0;34m)\u001b[0m\u001b[0;34m,\u001b[0m \u001b[0mpayload\u001b[0m\u001b[0;34m=\u001b[0m\u001b[0mdata\u001b[0m\u001b[0;34m)\u001b[0m\u001b[0;34m\u001b[0m\u001b[0;34m\u001b[0m\u001b[0m\n\u001b[0m\u001b[1;32m    819\u001b[0m \u001b[0;34m\u001b[0m\u001b[0m\n\u001b[1;32m    820\u001b[0m     def user_playlist_change_details(\n",
            "\u001b[0;32m/usr/local/lib/python3.10/dist-packages/spotipy/client.py\u001b[0m in \u001b[0;36m_post\u001b[0;34m(self, url, args, payload, **kwargs)\u001b[0m\n\u001b[1;32m    326\u001b[0m         \u001b[0;32mif\u001b[0m \u001b[0margs\u001b[0m\u001b[0;34m:\u001b[0m\u001b[0;34m\u001b[0m\u001b[0;34m\u001b[0m\u001b[0m\n\u001b[1;32m    327\u001b[0m             \u001b[0mkwargs\u001b[0m\u001b[0;34m.\u001b[0m\u001b[0mupdate\u001b[0m\u001b[0;34m(\u001b[0m\u001b[0margs\u001b[0m\u001b[0;34m)\u001b[0m\u001b[0;34m\u001b[0m\u001b[0;34m\u001b[0m\u001b[0m\n\u001b[0;32m--> 328\u001b[0;31m         \u001b[0;32mreturn\u001b[0m \u001b[0mself\u001b[0m\u001b[0;34m.\u001b[0m\u001b[0m_internal_call\u001b[0m\u001b[0;34m(\u001b[0m\u001b[0;34m\"POST\"\u001b[0m\u001b[0;34m,\u001b[0m \u001b[0murl\u001b[0m\u001b[0;34m,\u001b[0m \u001b[0mpayload\u001b[0m\u001b[0;34m,\u001b[0m \u001b[0mkwargs\u001b[0m\u001b[0;34m)\u001b[0m\u001b[0;34m\u001b[0m\u001b[0;34m\u001b[0m\u001b[0m\n\u001b[0m\u001b[1;32m    329\u001b[0m \u001b[0;34m\u001b[0m\u001b[0m\n\u001b[1;32m    330\u001b[0m     \u001b[0;32mdef\u001b[0m \u001b[0m_delete\u001b[0m\u001b[0;34m(\u001b[0m\u001b[0mself\u001b[0m\u001b[0;34m,\u001b[0m \u001b[0murl\u001b[0m\u001b[0;34m,\u001b[0m \u001b[0margs\u001b[0m\u001b[0;34m=\u001b[0m\u001b[0;32mNone\u001b[0m\u001b[0;34m,\u001b[0m \u001b[0mpayload\u001b[0m\u001b[0;34m=\u001b[0m\u001b[0;32mNone\u001b[0m\u001b[0;34m,\u001b[0m \u001b[0;34m**\u001b[0m\u001b[0mkwargs\u001b[0m\u001b[0;34m)\u001b[0m\u001b[0;34m:\u001b[0m\u001b[0;34m\u001b[0m\u001b[0;34m\u001b[0m\u001b[0m\n",
            "\u001b[0;32m/usr/local/lib/python3.10/dist-packages/spotipy/client.py\u001b[0m in \u001b[0;36m_internal_call\u001b[0;34m(self, method, url, payload, params)\u001b[0m\n\u001b[1;32m    245\u001b[0m         \u001b[0;32mif\u001b[0m \u001b[0;32mnot\u001b[0m \u001b[0murl\u001b[0m\u001b[0;34m.\u001b[0m\u001b[0mstartswith\u001b[0m\u001b[0;34m(\u001b[0m\u001b[0;34m\"http\"\u001b[0m\u001b[0;34m)\u001b[0m\u001b[0;34m:\u001b[0m\u001b[0;34m\u001b[0m\u001b[0;34m\u001b[0m\u001b[0m\n\u001b[1;32m    246\u001b[0m             \u001b[0murl\u001b[0m \u001b[0;34m=\u001b[0m \u001b[0mself\u001b[0m\u001b[0;34m.\u001b[0m\u001b[0mprefix\u001b[0m \u001b[0;34m+\u001b[0m \u001b[0murl\u001b[0m\u001b[0;34m\u001b[0m\u001b[0;34m\u001b[0m\u001b[0m\n\u001b[0;32m--> 247\u001b[0;31m         \u001b[0mheaders\u001b[0m \u001b[0;34m=\u001b[0m \u001b[0mself\u001b[0m\u001b[0;34m.\u001b[0m\u001b[0m_auth_headers\u001b[0m\u001b[0;34m(\u001b[0m\u001b[0;34m)\u001b[0m\u001b[0;34m\u001b[0m\u001b[0;34m\u001b[0m\u001b[0m\n\u001b[0m\u001b[1;32m    248\u001b[0m \u001b[0;34m\u001b[0m\u001b[0m\n\u001b[1;32m    249\u001b[0m         \u001b[0;32mif\u001b[0m \u001b[0;34m\"content_type\"\u001b[0m \u001b[0;32min\u001b[0m \u001b[0margs\u001b[0m\u001b[0;34m[\u001b[0m\u001b[0;34m\"params\"\u001b[0m\u001b[0;34m]\u001b[0m\u001b[0;34m:\u001b[0m\u001b[0;34m\u001b[0m\u001b[0;34m\u001b[0m\u001b[0m\n",
            "\u001b[0;32m/usr/local/lib/python3.10/dist-packages/spotipy/client.py\u001b[0m in \u001b[0;36m_auth_headers\u001b[0;34m(self)\u001b[0m\n\u001b[1;32m    236\u001b[0m             \u001b[0;32mreturn\u001b[0m \u001b[0;34m{\u001b[0m\u001b[0;34m}\u001b[0m\u001b[0;34m\u001b[0m\u001b[0;34m\u001b[0m\u001b[0m\n\u001b[1;32m    237\u001b[0m         \u001b[0;32mtry\u001b[0m\u001b[0;34m:\u001b[0m\u001b[0;34m\u001b[0m\u001b[0;34m\u001b[0m\u001b[0m\n\u001b[0;32m--> 238\u001b[0;31m             \u001b[0mtoken\u001b[0m \u001b[0;34m=\u001b[0m \u001b[0mself\u001b[0m\u001b[0;34m.\u001b[0m\u001b[0mauth_manager\u001b[0m\u001b[0;34m.\u001b[0m\u001b[0mget_access_token\u001b[0m\u001b[0;34m(\u001b[0m\u001b[0mas_dict\u001b[0m\u001b[0;34m=\u001b[0m\u001b[0;32mFalse\u001b[0m\u001b[0;34m)\u001b[0m\u001b[0;34m\u001b[0m\u001b[0;34m\u001b[0m\u001b[0m\n\u001b[0m\u001b[1;32m    239\u001b[0m         \u001b[0;32mexcept\u001b[0m \u001b[0mTypeError\u001b[0m\u001b[0;34m:\u001b[0m\u001b[0;34m\u001b[0m\u001b[0;34m\u001b[0m\u001b[0m\n\u001b[1;32m    240\u001b[0m             \u001b[0mtoken\u001b[0m \u001b[0;34m=\u001b[0m \u001b[0mself\u001b[0m\u001b[0;34m.\u001b[0m\u001b[0mauth_manager\u001b[0m\u001b[0;34m.\u001b[0m\u001b[0mget_access_token\u001b[0m\u001b[0;34m(\u001b[0m\u001b[0;34m)\u001b[0m\u001b[0;34m\u001b[0m\u001b[0;34m\u001b[0m\u001b[0m\n",
            "\u001b[0;32m/usr/local/lib/python3.10/dist-packages/spotipy/oauth2.py\u001b[0m in \u001b[0;36mget_access_token\u001b[0;34m(self, code, as_dict, check_cache)\u001b[0m\n\u001b[1;32m    533\u001b[0m         payload = {\n\u001b[1;32m    534\u001b[0m             \u001b[0;34m\"redirect_uri\"\u001b[0m\u001b[0;34m:\u001b[0m \u001b[0mself\u001b[0m\u001b[0;34m.\u001b[0m\u001b[0mredirect_uri\u001b[0m\u001b[0;34m,\u001b[0m\u001b[0;34m\u001b[0m\u001b[0;34m\u001b[0m\u001b[0m\n\u001b[0;32m--> 535\u001b[0;31m             \u001b[0;34m\"code\"\u001b[0m\u001b[0;34m:\u001b[0m \u001b[0mcode\u001b[0m \u001b[0;32mor\u001b[0m \u001b[0mself\u001b[0m\u001b[0;34m.\u001b[0m\u001b[0mget_auth_response\u001b[0m\u001b[0;34m(\u001b[0m\u001b[0;34m)\u001b[0m\u001b[0;34m,\u001b[0m\u001b[0;34m\u001b[0m\u001b[0;34m\u001b[0m\u001b[0m\n\u001b[0m\u001b[1;32m    536\u001b[0m             \u001b[0;34m\"grant_type\"\u001b[0m\u001b[0;34m:\u001b[0m \u001b[0;34m\"authorization_code\"\u001b[0m\u001b[0;34m,\u001b[0m\u001b[0;34m\u001b[0m\u001b[0;34m\u001b[0m\u001b[0m\n\u001b[1;32m    537\u001b[0m         }\n",
            "\u001b[0;32m/usr/local/lib/python3.10/dist-packages/spotipy/oauth2.py\u001b[0m in \u001b[0;36mget_auth_response\u001b[0;34m(self, open_browser)\u001b[0m\n\u001b[1;32m    488\u001b[0m             \u001b[0;31m# Only start a local http server if a port is specified\u001b[0m\u001b[0;34m\u001b[0m\u001b[0;34m\u001b[0m\u001b[0m\n\u001b[1;32m    489\u001b[0m             \u001b[0;32mif\u001b[0m \u001b[0mredirect_port\u001b[0m\u001b[0;34m:\u001b[0m\u001b[0;34m\u001b[0m\u001b[0;34m\u001b[0m\u001b[0m\n\u001b[0;32m--> 490\u001b[0;31m                 \u001b[0;32mreturn\u001b[0m \u001b[0mself\u001b[0m\u001b[0;34m.\u001b[0m\u001b[0m_get_auth_response_local_server\u001b[0m\u001b[0;34m(\u001b[0m\u001b[0mredirect_port\u001b[0m\u001b[0;34m)\u001b[0m\u001b[0;34m\u001b[0m\u001b[0;34m\u001b[0m\u001b[0m\n\u001b[0m\u001b[1;32m    491\u001b[0m             \u001b[0;32melse\u001b[0m\u001b[0;34m:\u001b[0m\u001b[0;34m\u001b[0m\u001b[0;34m\u001b[0m\u001b[0m\n\u001b[1;32m    492\u001b[0m                 logger.warning('Using `%s` as redirect URI without a port. '\n",
            "\u001b[0;32m/usr/local/lib/python3.10/dist-packages/spotipy/oauth2.py\u001b[0m in \u001b[0;36m_get_auth_response_local_server\u001b[0;34m(self, redirect_port)\u001b[0m\n\u001b[1;32m    457\u001b[0m         \u001b[0mserver\u001b[0m \u001b[0;34m=\u001b[0m \u001b[0mstart_local_http_server\u001b[0m\u001b[0;34m(\u001b[0m\u001b[0mredirect_port\u001b[0m\u001b[0;34m)\u001b[0m\u001b[0;34m\u001b[0m\u001b[0;34m\u001b[0m\u001b[0m\n\u001b[1;32m    458\u001b[0m         \u001b[0mself\u001b[0m\u001b[0;34m.\u001b[0m\u001b[0m_open_auth_url\u001b[0m\u001b[0;34m(\u001b[0m\u001b[0;34m)\u001b[0m\u001b[0;34m\u001b[0m\u001b[0;34m\u001b[0m\u001b[0m\n\u001b[0;32m--> 459\u001b[0;31m         \u001b[0mserver\u001b[0m\u001b[0;34m.\u001b[0m\u001b[0mhandle_request\u001b[0m\u001b[0;34m(\u001b[0m\u001b[0;34m)\u001b[0m\u001b[0;34m\u001b[0m\u001b[0;34m\u001b[0m\u001b[0m\n\u001b[0m\u001b[1;32m    460\u001b[0m \u001b[0;34m\u001b[0m\u001b[0m\n\u001b[1;32m    461\u001b[0m         \u001b[0;32mif\u001b[0m \u001b[0mserver\u001b[0m\u001b[0;34m.\u001b[0m\u001b[0merror\u001b[0m \u001b[0;32mis\u001b[0m \u001b[0;32mnot\u001b[0m \u001b[0;32mNone\u001b[0m\u001b[0;34m:\u001b[0m\u001b[0;34m\u001b[0m\u001b[0;34m\u001b[0m\u001b[0m\n",
            "\u001b[0;32m/usr/lib/python3.10/socketserver.py\u001b[0m in \u001b[0;36mhandle_request\u001b[0;34m(self)\u001b[0m\n\u001b[1;32m    292\u001b[0m \u001b[0;34m\u001b[0m\u001b[0m\n\u001b[1;32m    293\u001b[0m             \u001b[0;32mwhile\u001b[0m \u001b[0;32mTrue\u001b[0m\u001b[0;34m:\u001b[0m\u001b[0;34m\u001b[0m\u001b[0;34m\u001b[0m\u001b[0m\n\u001b[0;32m--> 294\u001b[0;31m                 \u001b[0mready\u001b[0m \u001b[0;34m=\u001b[0m \u001b[0mselector\u001b[0m\u001b[0;34m.\u001b[0m\u001b[0mselect\u001b[0m\u001b[0;34m(\u001b[0m\u001b[0mtimeout\u001b[0m\u001b[0;34m)\u001b[0m\u001b[0;34m\u001b[0m\u001b[0;34m\u001b[0m\u001b[0m\n\u001b[0m\u001b[1;32m    295\u001b[0m                 \u001b[0;32mif\u001b[0m \u001b[0mready\u001b[0m\u001b[0;34m:\u001b[0m\u001b[0;34m\u001b[0m\u001b[0;34m\u001b[0m\u001b[0m\n\u001b[1;32m    296\u001b[0m                     \u001b[0;32mreturn\u001b[0m \u001b[0mself\u001b[0m\u001b[0;34m.\u001b[0m\u001b[0m_handle_request_noblock\u001b[0m\u001b[0;34m(\u001b[0m\u001b[0;34m)\u001b[0m\u001b[0;34m\u001b[0m\u001b[0;34m\u001b[0m\u001b[0m\n",
            "\u001b[0;32m/usr/lib/python3.10/selectors.py\u001b[0m in \u001b[0;36mselect\u001b[0;34m(self, timeout)\u001b[0m\n\u001b[1;32m    414\u001b[0m         \u001b[0mready\u001b[0m \u001b[0;34m=\u001b[0m \u001b[0;34m[\u001b[0m\u001b[0;34m]\u001b[0m\u001b[0;34m\u001b[0m\u001b[0;34m\u001b[0m\u001b[0m\n\u001b[1;32m    415\u001b[0m         \u001b[0;32mtry\u001b[0m\u001b[0;34m:\u001b[0m\u001b[0;34m\u001b[0m\u001b[0;34m\u001b[0m\u001b[0m\n\u001b[0;32m--> 416\u001b[0;31m             \u001b[0mfd_event_list\u001b[0m \u001b[0;34m=\u001b[0m \u001b[0mself\u001b[0m\u001b[0;34m.\u001b[0m\u001b[0m_selector\u001b[0m\u001b[0;34m.\u001b[0m\u001b[0mpoll\u001b[0m\u001b[0;34m(\u001b[0m\u001b[0mtimeout\u001b[0m\u001b[0;34m)\u001b[0m\u001b[0;34m\u001b[0m\u001b[0;34m\u001b[0m\u001b[0m\n\u001b[0m\u001b[1;32m    417\u001b[0m         \u001b[0;32mexcept\u001b[0m \u001b[0mInterruptedError\u001b[0m\u001b[0;34m:\u001b[0m\u001b[0;34m\u001b[0m\u001b[0;34m\u001b[0m\u001b[0m\n\u001b[1;32m    418\u001b[0m             \u001b[0;32mreturn\u001b[0m \u001b[0mready\u001b[0m\u001b[0;34m\u001b[0m\u001b[0;34m\u001b[0m\u001b[0m\n",
            "\u001b[0;31mKeyboardInterrupt\u001b[0m: "
          ]
        }
      ]
    },
    {
      "cell_type": "code",
      "source": [
        "def makeSharedPlaylist(userOne, userTwo, URI):\n",
        "  sharedSongIDs = commonSongs_returnIDs(userOne, userTwo)\n",
        "  s.playlist_add_items(URI, sharedSongIDs)"
      ],
      "metadata": {
        "id": "QaVWto4H-LNN"
      },
      "execution_count": null,
      "outputs": []
    },
    {
      "cell_type": "markdown",
      "source": [
        "# Functions to add:\n",
        "*   Function that runs the function on all a user's friends than ranks the friends music compatability according to how many shared artists/songs they have\n",
        "*   Function to create playlist with shared songs between user and a friend\n",
        "*   Function that takes in two friends shared artists then suggests similar artists that the two can enjoy. Makes an explore playlist for these two friends\n",
        "\n",
        "\n"
      ],
      "metadata": {
        "id": "X5s8yly7cpI8"
      }
    }
  ]
}