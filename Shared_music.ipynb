{
  "nbformat": 4,
  "nbformat_minor": 0,
  "metadata": {
    "colab": {
      "provenance": [],
      "authorship_tag": "ABX9TyMjWQ2ifX1mAvZuTR8EyY3P",
      "include_colab_link": true
    },
    "kernelspec": {
      "name": "python3",
      "display_name": "Python 3"
    },
    "language_info": {
      "name": "python"
    }
  },
  "cells": [
    {
      "cell_type": "markdown",
      "metadata": {
        "id": "view-in-github",
        "colab_type": "text"
      },
      "source": [
        "<a href=\"https://colab.research.google.com/github/mnocerino23/Spotify-API-Project/blob/main/Shared_music.ipynb\" target=\"_parent\"><img src=\"https://colab.research.google.com/assets/colab-badge.svg\" alt=\"Open In Colab\"/></a>"
      ]
    },
    {
      "cell_type": "markdown",
      "source": [
        "# This Python program will help users find common songs and artists that their friends also know."
      ],
      "metadata": {
        "id": "Wc6jkedoE9em"
      }
    },
    {
      "cell_type": "code",
      "source": [
        "#download spotipy, a library for interacting with the spotify API, and\n",
        "#import it into the notebook\n",
        "\n",
        "!pip install spotipy\n",
        "import spotipy as spot\n",
        "from spotipy.oauth2 import SpotifyClientCredentials\n"
      ],
      "metadata": {
        "colab": {
          "base_uri": "https://localhost:8080/"
        },
        "id": "3KHXgqULFXGH",
        "outputId": "452266eb-418b-46c3-e2b2-c79d46c2c7db"
      },
      "execution_count": 1,
      "outputs": [
        {
          "output_type": "stream",
          "name": "stdout",
          "text": [
            "Collecting spotipy\n",
            "  Downloading spotipy-2.23.0-py3-none-any.whl (29 kB)\n",
            "Collecting redis>=3.5.3 (from spotipy)\n",
            "  Downloading redis-5.0.1-py3-none-any.whl (250 kB)\n",
            "\u001b[2K     \u001b[90m━━━━━━━━━━━━━━━━━━━━━━━━━━━━━━━━━━━━━━━━\u001b[0m \u001b[32m250.3/250.3 kB\u001b[0m \u001b[31m6.6 MB/s\u001b[0m eta \u001b[36m0:00:00\u001b[0m\n",
            "\u001b[?25hRequirement already satisfied: requests>=2.25.0 in /usr/local/lib/python3.10/dist-packages (from spotipy) (2.31.0)\n",
            "Requirement already satisfied: six>=1.15.0 in /usr/local/lib/python3.10/dist-packages (from spotipy) (1.16.0)\n",
            "Requirement already satisfied: urllib3>=1.26.0 in /usr/local/lib/python3.10/dist-packages (from spotipy) (2.0.7)\n",
            "Requirement already satisfied: async-timeout>=4.0.2 in /usr/local/lib/python3.10/dist-packages (from redis>=3.5.3->spotipy) (4.0.3)\n",
            "Requirement already satisfied: charset-normalizer<4,>=2 in /usr/local/lib/python3.10/dist-packages (from requests>=2.25.0->spotipy) (3.3.0)\n",
            "Requirement already satisfied: idna<4,>=2.5 in /usr/local/lib/python3.10/dist-packages (from requests>=2.25.0->spotipy) (3.4)\n",
            "Requirement already satisfied: certifi>=2017.4.17 in /usr/local/lib/python3.10/dist-packages (from requests>=2.25.0->spotipy) (2023.7.22)\n",
            "Installing collected packages: redis, spotipy\n",
            "Successfully installed redis-5.0.1 spotipy-2.23.0\n"
          ]
        }
      ]
    },
    {
      "cell_type": "code",
      "execution_count": 2,
      "metadata": {
        "id": "AcXJLkVOE5Ss"
      },
      "outputs": [],
      "source": [
        "#first, we authorize the Spotify API using token from Spotify for developers website"
      ]
    },
    {
      "cell_type": "code",
      "source": [
        "client_id = 'ae974bd565af4a1382abeb31c49db048'\n",
        "client_secret = '6c79d8a47c4e4a499fa565abbe0f3b09'"
      ],
      "metadata": {
        "id": "c4KiU7O7F5RU"
      },
      "execution_count": 3,
      "outputs": []
    },
    {
      "cell_type": "code",
      "source": [
        "MichaelNocerino_uri = 'spotify:user:12143795131'\n",
        "\n",
        "#My personal user id is 12143795131\n",
        "s = spot.Spotify(client_credentials_manager = SpotifyClientCredentials(client_id = 'ae974bd565af4a1382abeb31c49db048'\n",
        ", client_secret= '6c79d8a47c4e4a499fa565abbe0f3b09'))"
      ],
      "metadata": {
        "id": "ccbZTgl8HJE1"
      },
      "execution_count": 4,
      "outputs": []
    },
    {
      "cell_type": "code",
      "source": [
        "#commonSongs returns the shared songs known by the two individuals\n",
        "\n",
        "def commonSongs(personOne, personTwo):\n",
        "\n",
        "  personOneResults = s.user_playlists(personOne)\n",
        "  personOnePlaylists = []\n",
        "  for dictionary in personOneResults['items']:\n",
        "    if 'id' in dictionary.keys():\n",
        "      personOnePlaylists.append(dictionary['id'])\n",
        "\n",
        "  personOneSongs = []\n",
        "  for playlist in personOnePlaylists:\n",
        "    s_playlist = s.user_playlist_tracks(personOne, playlist)\n",
        "\n",
        "    #s_playlist['items'] is a list of dictionarys\n",
        "    for track in s_playlist['items']:\n",
        "      if track['track']['name'] not in personOneSongs:\n",
        "        personOneSongs.append(track['track']['name'])\n",
        "\n",
        "  personTwoResults = s.user_playlists(personTwo)\n",
        "  personTwoPlaylists = []\n",
        "  for dictionary in personTwoResults['items']:\n",
        "    if 'id' in dictionary.keys():\n",
        "      personTwoPlaylists.append(dictionary['id'])\n",
        "\n",
        "  personTwoSongs = []\n",
        "  for playlist in personTwoPlaylists:\n",
        "    s_playlist = s.user_playlist_tracks(personTwo, playlist)\n",
        "\n",
        "    #s_playlist['items'] is a list of dictionarys\n",
        "    for track in s_playlist['items']:\n",
        "      if track['track']['name'] not in personTwoSongs:\n",
        "        personTwoSongs.append(track['track']['name'])\n",
        "\n",
        "\n",
        "  #now scan the two artist lists with a double for loop to find intersection\n",
        "  #of the two sets\n",
        "  shared = []\n",
        "  for song in personOneSongs:\n",
        "    if song in personTwoSongs:\n",
        "      shared.append(song)\n",
        "  #output the shared artists\n",
        "  print(len(shared), \"Shared Songs:\")\n",
        "  for item in shared:\n",
        "    print(item)\n"
      ],
      "metadata": {
        "id": "33pGvyLDHnn3"
      },
      "execution_count": 5,
      "outputs": []
    },
    {
      "cell_type": "code",
      "source": [
        "#commonArtists returns the common Artists known by the two individuals\n",
        "#personOne, personTwo are integers that represent the userID of the individual\n",
        "\n",
        "def commonArtists(personOne, personTwo):\n",
        "\n",
        "  personOneResults = s.user_playlists(personOne)\n",
        "  personOnePlaylists = []\n",
        "  for dictionary in personOneResults['items']:\n",
        "    if 'id' in dictionary.keys():\n",
        "      personOnePlaylists.append(dictionary['id'])\n",
        "\n",
        "  personOneArtists = []\n",
        "  for playlist in personOnePlaylists:\n",
        "    s_playlist = s.user_playlist_tracks(personOne, playlist)\n",
        "\n",
        "    #s_playlist['items'] is a list of dictionarys\n",
        "    for track in s_playlist['items']:\n",
        "      if track['track']['album']['artists'][0]['name'] not in personOneArtists:\n",
        "        personOneArtists.append(track['track']['album']['artists'][0]['name'])\n",
        "\n",
        "  personTwoResults = s.user_playlists(personTwo)\n",
        "  personTwoPlaylists = []\n",
        "  for dictionary in personTwoResults['items']:\n",
        "    if 'id' in dictionary.keys():\n",
        "      personTwoPlaylists.append(dictionary['id'])\n",
        "\n",
        "  personTwoArtists = []\n",
        "  for playlist in personTwoPlaylists:\n",
        "    s_playlist = s.user_playlist_tracks(personTwo, playlist)\n",
        "\n",
        "    #s_playlist['items'] is a list of dictionarys\n",
        "    for track in s_playlist['items']:\n",
        "      if track['track']['album']['artists'][0]['name'] not in personTwoArtists:\n",
        "        personTwoArtists.append(track['track']['album']['artists'][0]['name'])\n",
        "\n",
        "\n",
        "  #now scan the two artist lists with a double for loop to find intersection\n",
        "  #of the two sets\n",
        "  shared = []\n",
        "  for artist in personOneArtists:\n",
        "    if artist in personTwoArtists:\n",
        "      shared.append(artist)\n",
        "  #output the shared artists\n",
        "  print(len(shared), \"Shared Artists:\")\n",
        "  for item in shared:\n",
        "    print(item)"
      ],
      "metadata": {
        "id": "Y5e6jQXIHxqO"
      },
      "execution_count": 6,
      "outputs": []
    },
    {
      "cell_type": "code",
      "source": [
        "commonArtists(12143795131, 'mocolvin')"
      ],
      "metadata": {
        "colab": {
          "base_uri": "https://localhost:8080/"
        },
        "id": "1v4TwNiRNWqV",
        "outputId": "95cde865-cc53-417a-c1d8-ebafc73898ff"
      },
      "execution_count": 7,
      "outputs": [
        {
          "output_type": "stream",
          "name": "stdout",
          "text": [
            "51 Shared Artists:\n",
            "Kanye West\n",
            "Khruangbin\n",
            "Men I Trust\n",
            "Cannons\n",
            "Elliott Smith\n",
            "Grateful Dead\n",
            "Shakey Graves\n",
            "Yo La Tengo\n",
            "Fred again..\n",
            "A Tribe Called Quest\n",
            "Feeling Blew\n",
            "David Bowie\n",
            "Fleetwood Mac\n",
            "Ariel Pink\n",
            "The Smiths\n",
            "Various Artists\n",
            "Mazzy Star\n",
            "Calvin Harris\n",
            "Drake\n",
            "JAY-Z\n",
            "Kendrick Lamar\n",
            "El Ten Eleven\n",
            "Cotton Jones\n",
            "The Velvet Underground\n",
            "Jackson Browne\n",
            "Silk Rhodes\n",
            "alt-J\n",
            "Darondo\n",
            "Bruce Springsteen\n",
            "Talking Heads\n",
            "DISPATCH\n",
            "The Police\n",
            "The Clash\n",
            "Tom Petty and the Heartbreakers\n",
            "Led Zeppelin\n",
            "The Rolling Stones\n",
            "The Beatles\n",
            "A$AP Rocky\n",
            "John Mayer\n",
            "Hozier\n",
            "RÜFÜS DU SOL\n",
            "50 Cent\n",
            "The Replacements\n",
            "Lorde\n",
            "Beach House\n",
            "Mac Miller\n",
            "Gorillaz\n",
            "070 Shake\n",
            "Sade\n",
            "Dean Blunt\n",
            "Eagles\n"
          ]
        }
      ]
    },
    {
      "cell_type": "code",
      "source": [
        "commonArtists(12143795131, 'catherine_joy')"
      ],
      "metadata": {
        "colab": {
          "base_uri": "https://localhost:8080/"
        },
        "id": "M6Yx4UvAb8GQ",
        "outputId": "51db945a-3987-4c5f-b79a-1b85d97675fd"
      },
      "execution_count": 8,
      "outputs": [
        {
          "output_type": "stream",
          "name": "stdout",
          "text": [
            "88 Shared Artists:\n",
            "Kanye West\n",
            "Khruangbin\n",
            "Wilco\n",
            "Men I Trust\n",
            "Goth Babe\n",
            "Kurt Vile\n",
            "Elliott Smith\n",
            "Nick Drake\n",
            "The Shins\n",
            "Bob Marley & The Wailers\n",
            "Grateful Dead\n",
            "Shakey Graves\n",
            "Mac DeMarco\n",
            "Townes Van Zandt\n",
            "Fred again..\n",
            "Old Dominion\n",
            "Tyler Childers\n",
            "Cocteau Twins\n",
            "Fleetwood Mac\n",
            "Ariel Pink\n",
            "Rayland Baxter\n",
            "Nico\n",
            "The Smiths\n",
            "Simon & Garfunkel\n",
            "Ted Lucas\n",
            "Various Artists\n",
            "Edward Sharpe & The Magnetic Zeros\n",
            "Sophie Ellis-Bextor\n",
            "Maribou State\n",
            "Beirut\n",
            "MF DOOM\n",
            "Daft Punk\n",
            "Supertramp\n",
            "Cotton Jones\n",
            "Air\n",
            "The Velvet Underground\n",
            "The Microphones\n",
            "Van Morrison\n",
            "Steve Miller Band\n",
            "Parcels\n",
            "Talking Heads\n",
            "Billy Bragg\n",
            "DISPATCH\n",
            "Jack Johnson\n",
            "Dr. Dog\n",
            "Led Zeppelin\n",
            "Scoundrels\n",
            "Moniker\n",
            "The Rolling Stones\n",
            "Bob Dylan\n",
            "Paul Simon\n",
            "George Harrison\n",
            "The Chicks\n",
            "The Beatles\n",
            "Wings\n",
            "Sashamon\n",
            "Morgan Wallen\n",
            "La Femme\n",
            "Disclosure\n",
            "John Mayer\n",
            "RÜFÜS DU SOL\n",
            "spüke\n",
            "Tame Impala\n",
            "Gregory Isaacs\n",
            "Nina Simone\n",
            "Lorde\n",
            "Beach House\n",
            "Harry Styles\n",
            "Gorillaz\n",
            "Bahamas\n",
            "Penguin Cafe Orchestra\n",
            "Blitzen Trapper\n",
            "The Rah Band\n",
            "The Pioneers\n",
            "Hailu Mergia\n",
            "Sublime\n",
            "Empire of the Sun\n",
            "Ziggy Alberts\n",
            "Michael Nau\n",
            "Mareux\n",
            "Smokey Robinson & The Miracles\n",
            "Pink Floyd\n",
            "Duster\n",
            "Stennes\n",
            "The Avalanches\n",
            "Happy Jawbone Family Band\n",
            "Robert Lester Folsom\n",
            "Eagles\n"
          ]
        }
      ]
    },
    {
      "cell_type": "code",
      "source": [
        "commonSongs(12143795131, 'catherine_joy')"
      ],
      "metadata": {
        "colab": {
          "base_uri": "https://localhost:8080/"
        },
        "id": "FuM__zFCTFfZ",
        "outputId": "4c5c5d8d-8d68-4c23-cc7d-6541c01e70fa"
      },
      "execution_count": 9,
      "outputs": [
        {
          "output_type": "stream",
          "name": "stdout",
          "text": [
            "90 Shared Songs:\n",
            "I Wonder\n",
            "Pink Moon\n",
            "New Slang - 2021 Remaster\n",
            "Tomorrow\n",
            "How Lucky\n",
            "Feathered Indians\n",
            "One More Love Song\n",
            "Heaven or Las Vegas\n",
            "Carolyn's Fingers\n",
            "Future Games\n",
            "Yellow Eyes\n",
            "Frankly, Mr. Shankly - 2011 Remaster\n",
            "The Boxer\n",
            "Love Changes\n",
            "Home\n",
            "Rick's New Haircut #1\n",
            "Murder On the Dance Floor\n",
            "I Really Love You\n",
            "Turnmills\n",
            "Scenic World\n",
            "My Family's Role in the World Revolution\n",
            "Canary Islands\n",
            "El Condor Pasa (If I Could)\n",
            "These Days\n",
            "The Spinning Wheel\n",
            "Playground Love\n",
            "I Found a Reason - Demo Version; 2015 Remaster\n",
            "Ride Into The Sun - \"1969\" / 2014 Mix\n",
            "I Want Wind to Blow\n",
            "None but the Rain\n",
            "Place To Be\n",
            "From The Morning\n",
            "Family and Genus\n",
            "Delilah (pull me out of this)\n",
            "This Must Be the Place (Naive Melody) - 2005 Remaster\n",
            "California Stars\n",
            "Gone The Bells\n",
            "Subplots\n",
            "Wasting Time\n",
            "Sexy Weekend\n",
            "Ocean Blue\n",
            "Tangerine - Remaster\n",
            "Did Ye Get Healed\n",
            "I've Got to Tell You About It\n",
            "Don't Think Twice, It's All Right\n",
            "Cowboy Take Me Away\n",
            "Band On The Run - 2010 Remaster\n",
            "Necta (Butterfly)\n",
            "Underwater\n",
            "Emanate\n",
            "Girl from the North Country\n",
            "April Come She Will\n",
            "H.f.g.w (Canyons Drunken Rage)\n",
            "The Fairest Of The Seasons\n",
            "Shot Reverse Shot\n",
            "See-Line Woman - Riton Remix\n",
            "The Hours\n",
            "Cherry\n",
            "Where Angels Fear To Tread\n",
            "My Old Man\n",
            "Empire Ants (feat. Little Dragon)\n",
            "New Gold (feat. Tame Impala and Bootie Brown)\n",
            "Furr\n",
            "Messages from the Stars\n",
            "Boss Festival\n",
            "Blood Red Sentimental Blues\n",
            "Herefore - Roisto Remix\n",
            "Sintayehu\n",
            "Please, Please, Please, Let Me Get What I Want - 2011 Remaster\n",
            "Face to Face\n",
            "Badfish\n",
            "Keep the Customer Satisfied\n",
            "We Are The People\n",
            "Simple Things (The Ocean Song)\n",
            "Hands I Can Hold\n",
            "Maralou\n",
            "I Found a Reason - 2015 Remaster\n",
            "The Perfect Girl\n",
            "Watching Him Fade Away\n",
            "Eyes Didn't Let Me Open\n",
            "Do You Remember\n",
            "Music Makes Me High\n",
            "I Felt Your Shape\n",
            "Since I Left You\n",
            "Heaven on the Beach With You\n",
            "Which Will\n",
            "The Sound Of Someone You Love Who's Going Away And It Doesn't Matter - 2008 Digital Remaster\n",
            "Back to the Old House - 2011 Remaster\n",
            "Chamber Of Reflection\n",
            "Cool Down The Pace\n"
          ]
        }
      ]
    },
    {
      "cell_type": "code",
      "source": [
        "#modify the common Songs function slightly so that it returns a list\n",
        "#the song ids as opposed to the song title\n",
        "\n",
        "def commonSongs_returnIDs(personOne, personTwo):\n",
        "\n",
        "  personOneResults = s.user_playlists(personOne)\n",
        "  personOnePlaylists = []\n",
        "  for dictionary in personOneResults['items']:\n",
        "    if 'id' in dictionary.keys():\n",
        "      personOnePlaylists.append(dictionary['id'])\n",
        "\n",
        "  personOneSongs = []\n",
        "  for playlist in personOnePlaylists:\n",
        "    s_playlist = s.user_playlist_tracks(personOne, playlist)\n",
        "\n",
        "    #s_playlist['items'] is a list of dictionarys\n",
        "    for track in s_playlist['items']:\n",
        "      if track['track']['id'] not in personOneSongs:\n",
        "        personOneSongs.append(track['track']['id'])\n",
        "\n",
        "  personTwoResults = s.user_playlists(personTwo)\n",
        "  personTwoPlaylists = []\n",
        "  for dictionary in personTwoResults['items']:\n",
        "    if 'id' in dictionary.keys():\n",
        "      personTwoPlaylists.append(dictionary['id'])\n",
        "\n",
        "  personTwoSongs = []\n",
        "  for playlist in personTwoPlaylists:\n",
        "    s_playlist = s.user_playlist_tracks(personTwo, playlist)\n",
        "\n",
        "    #s_playlist['items'] is a list of dictionarys\n",
        "    for track in s_playlist['items']:\n",
        "      if track['track']['id'] not in personTwoSongs:\n",
        "        personTwoSongs.append(track['track']['id'])\n",
        "\n",
        "\n",
        "  #now scan the two artist lists with a double for loop to find intersection\n",
        "  #of the two sets\n",
        "  shared = []\n",
        "  for song in personOneSongs:\n",
        "    if song in personTwoSongs:\n",
        "      shared.append(song)\n",
        "  #output the shared artists\n",
        "  #print(len(shared), \"Shared Songs:\")\n",
        "  #for item in shared:\n",
        "    #print(item)\n",
        "  return shared"
      ],
      "metadata": {
        "id": "lbmYBj7g-u5N"
      },
      "execution_count": 10,
      "outputs": []
    },
    {
      "cell_type": "code",
      "source": [
        "#test the function\n",
        "commonSongs_returnIDs(12143795131, 'catherine_joy')"
      ],
      "metadata": {
        "colab": {
          "base_uri": "https://localhost:8080/"
        },
        "id": "sVv1IO4E_JMr",
        "outputId": "105d0683-c43c-45af-e75a-07e850173e6a"
      },
      "execution_count": null,
      "outputs": [
        {
          "output_type": "execute_result",
          "data": {
            "text/plain": [
              "['4jQqM4NI79HEcWHUJb8Hvf',\n",
              " '7j9UhvhILH3zR1eEGLSksU',\n",
              " '3HOXNIj8NjlgjQiBd3YVIi',\n",
              " '5m4o1robU6yTvFDXXSrH0F',\n",
              " '7MuU7UbVaKyu4HkHBoHwrD',\n",
              " '1eN42Q7IWRzRBq8eW2Y2TE',\n",
              " '3uCkIqD0VzQUijbs8WIizs',\n",
              " '0yR4SV1qBggRu6kNJJ3Am9',\n",
              " '052z2UsE2wPrHsBJ9tly0g',\n",
              " '3EyGPeNd6Y8ZMUcZQR1BvG',\n",
              " '7qJreNMHmeV7Ezs4y9eddQ',\n",
              " '1bAZV1EBTRi9t1cVg75i8t',\n",
              " '7I5TgzRBPcnUafTJaZFbfy',\n",
              " '4iK3yOQKoby2b9gvCmUwsR',\n",
              " '5X0ax3W4acNnoMnHqXtcAb',\n",
              " '5QUeSXjTMHbq1fW5da2waF',\n",
              " '6meH4I9A4WZtD3z8hnQKqr',\n",
              " '5lJ1NMNz6ymwdaL9aejm8e',\n",
              " '47KDDZgFiX1w6RFOuLXsSn',\n",
              " '0Ftrkz2waaHcjKb4qYvLmz',\n",
              " '6aBUnkXuCEQQHAlTokv9or',\n",
              " '58O3Mm4oajmOp24fofYURh',\n",
              " '2tgQaL85WoRfgEa4hFQgrE',\n",
              " '0xf9XvTqzMSqqN7Vpqybsd',\n",
              " '5nb0BEZqsmQYseSPJ932K8',\n",
              " '5yCrrN0GiJjHkRJGWw5D13',\n",
              " '3tjnCI2F64MOrRzi3NgXCA',\n",
              " '5BzGvBwBL3y2WSGml0rkLH',\n",
              " '4ywWJqYKOwaVVh9xXARWUS',\n",
              " '38S3dnbMSSUvLZxwKPTsx1',\n",
              " '7zGTy1hKWrcAbW3pnR6Gw4',\n",
              " '2WOjLF83vqjit2Zh4B69V3',\n",
              " '3rXCZRMiMZp0feGcYXpwYX',\n",
              " '1H4idkmruFoJBg1DvUv2tY',\n",
              " '2ZUjks7eu5jmj2qnWLm8qm',\n",
              " '4LrOmj6MoxMdCLf2zJnkq0',\n",
              " '5ZvHcR4OSwvEV5IhigbTOT',\n",
              " '6otMqBmdJD8V7rAUnLMs1D',\n",
              " '739sLmfUkVFoyPtb0C3263',\n",
              " '0djZ2ndRfAL69WYNra5jRC',\n",
              " '2wxeIcUPu0hdlB8pFsxSAi',\n",
              " '3YX4WviUJiDEov6IrAdFYD',\n",
              " '5b6qqB5nvWRrin8e2cWDQY',\n",
              " '2BnoxYpCeEiDQSUNx1TZpf',\n",
              " '0AxZUYeQ9bZwSdt1LmZuok',\n",
              " '3UTKuCUcoA2HQksp7veM6C',\n",
              " '2IOFZdYYkFxEHVz1w34PoL',\n",
              " '1ZqeykOaDmjkldzs7XGR4b',\n",
              " '4ewRM5SP4YhmlfKhi5uSjS',\n",
              " '3a6PN6BRB8PP3ms48s7kU1',\n",
              " '64dLd6rVqDLtkXFYrEUHIU',\n",
              " '7INhVPCEIaT1GhtDYospGK',\n",
              " '6lYY2HktYKpV1pUamfRlU1',\n",
              " '6vZhs9uND5JfZV5apbjJqo',\n",
              " '7mgxJci0i2wKTTC7n1zxoE',\n",
              " '2wMmUvfrkpFJ4ovjpMNVmL',\n",
              " '6BrMEbPSSj55nQhkgf6DnE',\n",
              " '7v9Q0dAb9t7h8gJOkcJHay',\n",
              " '4uIjNF84ZbteunNMxr4Xc0',\n",
              " '3zEN0ii6s4DHHBpnTp3RP7',\n",
              " '5EGAkrIRnaIz88A3tCGW0f',\n",
              " '6D7nHrBXHBHZqxlEBvofFT',\n",
              " '63OJHHu2ambZAvdrvhdT2b',\n",
              " '2QzKAF0y1BQhxwg8N05Uog',\n",
              " '4pPDvob57BlkjTwimnrira',\n",
              " '1EZJBB6bvCcrvYRlOyoHuf',\n",
              " '5wGimcNBzXh1e18IJqbENw',\n",
              " '1HTR2cbs7Nor722yzYQi63',\n",
              " '1AAYbsAIgEJMbxgLgpjE9y',\n",
              " '38paDDziQ57k1f4VfKTeGk',\n",
              " '4Cg0paoTgxlo2LC85HKaab',\n",
              " '5mhl1LKUCh4mOdPwh0WwMM',\n",
              " '6LUGvXEAK8WxIBYK43uoTb',\n",
              " '7H7NyZ3G075GqPx2evsfeb',\n",
              " '4llIZen1Cn4mi3DJm2Lqlz',\n",
              " '6WlmEymaXKMRs3D2c4j6os',\n",
              " '4gmzU1lObaLdStXFRcODhe',\n",
              " '7opFLwPI53eORdmxyv7Y3f',\n",
              " '3f3HHRPF5vAo90GwdpDMaQ',\n",
              " '27qG9sy9FaxB7sd3pRMAAO']"
            ]
          },
          "metadata": {},
          "execution_count": 10
        }
      ]
    },
    {
      "cell_type": "code",
      "source": [
        "import spotipy\n",
        "from spotipy.oauth2 import SpotifyOAuth\n",
        "\n",
        "redirect_uri = \"http://localhost:8000\"  #redirect URI for authentication\n",
        "\n",
        "# Create a new playlist\n",
        "my_user_id = 12143795131\n",
        "scope = 'playlist-modify-public'\n",
        "\n",
        "# Authenticate and create the Spotipy object\n",
        "sp = spotipy.Spotify(auth_manager=SpotifyOAuth(client_id, client_secret, redirect_uri, scope=scope))\n",
        "sp.user_playlist_create(my_user_id, \"Shared Playlist\", public=True)\n",
        "\n",
        "# Add songs to the playlist\n",
        "#tracks = commonSongs_returnIDs(my_user_id, 'catherine_joy')\n",
        "#sp.playlist_add_items(playlist, tracks)"
      ],
      "metadata": {
        "colab": {
          "base_uri": "https://localhost:8080/",
          "height": 391
        },
        "id": "ARMNDVC1CN79",
        "outputId": "81bf220e-1ef8-4546-e777-0a8e4214d30e"
      },
      "execution_count": null,
      "outputs": [
        {
          "output_type": "error",
          "ename": "KeyboardInterrupt",
          "evalue": "ignored",
          "traceback": [
            "\u001b[0;31m---------------------------------------------------------------------------\u001b[0m",
            "\u001b[0;31mKeyboardInterrupt\u001b[0m                         Traceback (most recent call last)",
            "\u001b[0;32m<ipython-input-19-5c370f2e81e8>\u001b[0m in \u001b[0;36m<cell line: 13>\u001b[0;34m()\u001b[0m\n\u001b[1;32m     11\u001b[0m \u001b[0;31m# Authenticate and create the Spotipy object\u001b[0m\u001b[0;34m\u001b[0m\u001b[0;34m\u001b[0m\u001b[0m\n\u001b[1;32m     12\u001b[0m \u001b[0msp\u001b[0m \u001b[0;34m=\u001b[0m \u001b[0mspotipy\u001b[0m\u001b[0;34m.\u001b[0m\u001b[0mSpotify\u001b[0m\u001b[0;34m(\u001b[0m\u001b[0mauth_manager\u001b[0m\u001b[0;34m=\u001b[0m\u001b[0mSpotifyOAuth\u001b[0m\u001b[0;34m(\u001b[0m\u001b[0mclient_id\u001b[0m\u001b[0;34m,\u001b[0m \u001b[0mclient_secret\u001b[0m\u001b[0;34m,\u001b[0m \u001b[0mredirect_uri\u001b[0m\u001b[0;34m,\u001b[0m \u001b[0mscope\u001b[0m\u001b[0;34m=\u001b[0m\u001b[0mscope\u001b[0m\u001b[0;34m)\u001b[0m\u001b[0;34m)\u001b[0m\u001b[0;34m\u001b[0m\u001b[0;34m\u001b[0m\u001b[0m\n\u001b[0;32m---> 13\u001b[0;31m \u001b[0msp\u001b[0m\u001b[0;34m.\u001b[0m\u001b[0muser_playlist_create\u001b[0m\u001b[0;34m(\u001b[0m\u001b[0mmy_user_id\u001b[0m\u001b[0;34m,\u001b[0m \u001b[0;34m\"Shared Playlist\"\u001b[0m\u001b[0;34m,\u001b[0m \u001b[0mpublic\u001b[0m\u001b[0;34m=\u001b[0m\u001b[0;32mTrue\u001b[0m\u001b[0;34m)\u001b[0m\u001b[0;34m\u001b[0m\u001b[0;34m\u001b[0m\u001b[0m\n\u001b[0m\u001b[1;32m     14\u001b[0m \u001b[0;34m\u001b[0m\u001b[0m\n\u001b[1;32m     15\u001b[0m \u001b[0;31m# Add songs to the playlist\u001b[0m\u001b[0;34m\u001b[0m\u001b[0;34m\u001b[0m\u001b[0m\n",
            "\u001b[0;32m/usr/local/lib/python3.10/dist-packages/spotipy/client.py\u001b[0m in \u001b[0;36muser_playlist_create\u001b[0;34m(self, user, name, public, collaborative, description)\u001b[0m\n\u001b[1;32m    816\u001b[0m         }\n\u001b[1;32m    817\u001b[0m \u001b[0;34m\u001b[0m\u001b[0m\n\u001b[0;32m--> 818\u001b[0;31m         \u001b[0;32mreturn\u001b[0m \u001b[0mself\u001b[0m\u001b[0;34m.\u001b[0m\u001b[0m_post\u001b[0m\u001b[0;34m(\u001b[0m\u001b[0;34m\"users/%s/playlists\"\u001b[0m \u001b[0;34m%\u001b[0m \u001b[0;34m(\u001b[0m\u001b[0muser\u001b[0m\u001b[0;34m,\u001b[0m\u001b[0;34m)\u001b[0m\u001b[0;34m,\u001b[0m \u001b[0mpayload\u001b[0m\u001b[0;34m=\u001b[0m\u001b[0mdata\u001b[0m\u001b[0;34m)\u001b[0m\u001b[0;34m\u001b[0m\u001b[0;34m\u001b[0m\u001b[0m\n\u001b[0m\u001b[1;32m    819\u001b[0m \u001b[0;34m\u001b[0m\u001b[0m\n\u001b[1;32m    820\u001b[0m     def user_playlist_change_details(\n",
            "\u001b[0;32m/usr/local/lib/python3.10/dist-packages/spotipy/client.py\u001b[0m in \u001b[0;36m_post\u001b[0;34m(self, url, args, payload, **kwargs)\u001b[0m\n\u001b[1;32m    326\u001b[0m         \u001b[0;32mif\u001b[0m \u001b[0margs\u001b[0m\u001b[0;34m:\u001b[0m\u001b[0;34m\u001b[0m\u001b[0;34m\u001b[0m\u001b[0m\n\u001b[1;32m    327\u001b[0m             \u001b[0mkwargs\u001b[0m\u001b[0;34m.\u001b[0m\u001b[0mupdate\u001b[0m\u001b[0;34m(\u001b[0m\u001b[0margs\u001b[0m\u001b[0;34m)\u001b[0m\u001b[0;34m\u001b[0m\u001b[0;34m\u001b[0m\u001b[0m\n\u001b[0;32m--> 328\u001b[0;31m         \u001b[0;32mreturn\u001b[0m \u001b[0mself\u001b[0m\u001b[0;34m.\u001b[0m\u001b[0m_internal_call\u001b[0m\u001b[0;34m(\u001b[0m\u001b[0;34m\"POST\"\u001b[0m\u001b[0;34m,\u001b[0m \u001b[0murl\u001b[0m\u001b[0;34m,\u001b[0m \u001b[0mpayload\u001b[0m\u001b[0;34m,\u001b[0m \u001b[0mkwargs\u001b[0m\u001b[0;34m)\u001b[0m\u001b[0;34m\u001b[0m\u001b[0;34m\u001b[0m\u001b[0m\n\u001b[0m\u001b[1;32m    329\u001b[0m \u001b[0;34m\u001b[0m\u001b[0m\n\u001b[1;32m    330\u001b[0m     \u001b[0;32mdef\u001b[0m \u001b[0m_delete\u001b[0m\u001b[0;34m(\u001b[0m\u001b[0mself\u001b[0m\u001b[0;34m,\u001b[0m \u001b[0murl\u001b[0m\u001b[0;34m,\u001b[0m \u001b[0margs\u001b[0m\u001b[0;34m=\u001b[0m\u001b[0;32mNone\u001b[0m\u001b[0;34m,\u001b[0m \u001b[0mpayload\u001b[0m\u001b[0;34m=\u001b[0m\u001b[0;32mNone\u001b[0m\u001b[0;34m,\u001b[0m \u001b[0;34m**\u001b[0m\u001b[0mkwargs\u001b[0m\u001b[0;34m)\u001b[0m\u001b[0;34m:\u001b[0m\u001b[0;34m\u001b[0m\u001b[0;34m\u001b[0m\u001b[0m\n",
            "\u001b[0;32m/usr/local/lib/python3.10/dist-packages/spotipy/client.py\u001b[0m in \u001b[0;36m_internal_call\u001b[0;34m(self, method, url, payload, params)\u001b[0m\n\u001b[1;32m    245\u001b[0m         \u001b[0;32mif\u001b[0m \u001b[0;32mnot\u001b[0m \u001b[0murl\u001b[0m\u001b[0;34m.\u001b[0m\u001b[0mstartswith\u001b[0m\u001b[0;34m(\u001b[0m\u001b[0;34m\"http\"\u001b[0m\u001b[0;34m)\u001b[0m\u001b[0;34m:\u001b[0m\u001b[0;34m\u001b[0m\u001b[0;34m\u001b[0m\u001b[0m\n\u001b[1;32m    246\u001b[0m             \u001b[0murl\u001b[0m \u001b[0;34m=\u001b[0m \u001b[0mself\u001b[0m\u001b[0;34m.\u001b[0m\u001b[0mprefix\u001b[0m \u001b[0;34m+\u001b[0m \u001b[0murl\u001b[0m\u001b[0;34m\u001b[0m\u001b[0;34m\u001b[0m\u001b[0m\n\u001b[0;32m--> 247\u001b[0;31m         \u001b[0mheaders\u001b[0m \u001b[0;34m=\u001b[0m \u001b[0mself\u001b[0m\u001b[0;34m.\u001b[0m\u001b[0m_auth_headers\u001b[0m\u001b[0;34m(\u001b[0m\u001b[0;34m)\u001b[0m\u001b[0;34m\u001b[0m\u001b[0;34m\u001b[0m\u001b[0m\n\u001b[0m\u001b[1;32m    248\u001b[0m \u001b[0;34m\u001b[0m\u001b[0m\n\u001b[1;32m    249\u001b[0m         \u001b[0;32mif\u001b[0m \u001b[0;34m\"content_type\"\u001b[0m \u001b[0;32min\u001b[0m \u001b[0margs\u001b[0m\u001b[0;34m[\u001b[0m\u001b[0;34m\"params\"\u001b[0m\u001b[0;34m]\u001b[0m\u001b[0;34m:\u001b[0m\u001b[0;34m\u001b[0m\u001b[0;34m\u001b[0m\u001b[0m\n",
            "\u001b[0;32m/usr/local/lib/python3.10/dist-packages/spotipy/client.py\u001b[0m in \u001b[0;36m_auth_headers\u001b[0;34m(self)\u001b[0m\n\u001b[1;32m    236\u001b[0m             \u001b[0;32mreturn\u001b[0m \u001b[0;34m{\u001b[0m\u001b[0;34m}\u001b[0m\u001b[0;34m\u001b[0m\u001b[0;34m\u001b[0m\u001b[0m\n\u001b[1;32m    237\u001b[0m         \u001b[0;32mtry\u001b[0m\u001b[0;34m:\u001b[0m\u001b[0;34m\u001b[0m\u001b[0;34m\u001b[0m\u001b[0m\n\u001b[0;32m--> 238\u001b[0;31m             \u001b[0mtoken\u001b[0m \u001b[0;34m=\u001b[0m \u001b[0mself\u001b[0m\u001b[0;34m.\u001b[0m\u001b[0mauth_manager\u001b[0m\u001b[0;34m.\u001b[0m\u001b[0mget_access_token\u001b[0m\u001b[0;34m(\u001b[0m\u001b[0mas_dict\u001b[0m\u001b[0;34m=\u001b[0m\u001b[0;32mFalse\u001b[0m\u001b[0;34m)\u001b[0m\u001b[0;34m\u001b[0m\u001b[0;34m\u001b[0m\u001b[0m\n\u001b[0m\u001b[1;32m    239\u001b[0m         \u001b[0;32mexcept\u001b[0m \u001b[0mTypeError\u001b[0m\u001b[0;34m:\u001b[0m\u001b[0;34m\u001b[0m\u001b[0;34m\u001b[0m\u001b[0m\n\u001b[1;32m    240\u001b[0m             \u001b[0mtoken\u001b[0m \u001b[0;34m=\u001b[0m \u001b[0mself\u001b[0m\u001b[0;34m.\u001b[0m\u001b[0mauth_manager\u001b[0m\u001b[0;34m.\u001b[0m\u001b[0mget_access_token\u001b[0m\u001b[0;34m(\u001b[0m\u001b[0;34m)\u001b[0m\u001b[0;34m\u001b[0m\u001b[0;34m\u001b[0m\u001b[0m\n",
            "\u001b[0;32m/usr/local/lib/python3.10/dist-packages/spotipy/oauth2.py\u001b[0m in \u001b[0;36mget_access_token\u001b[0;34m(self, code, as_dict, check_cache)\u001b[0m\n\u001b[1;32m    533\u001b[0m         payload = {\n\u001b[1;32m    534\u001b[0m             \u001b[0;34m\"redirect_uri\"\u001b[0m\u001b[0;34m:\u001b[0m \u001b[0mself\u001b[0m\u001b[0;34m.\u001b[0m\u001b[0mredirect_uri\u001b[0m\u001b[0;34m,\u001b[0m\u001b[0;34m\u001b[0m\u001b[0;34m\u001b[0m\u001b[0m\n\u001b[0;32m--> 535\u001b[0;31m             \u001b[0;34m\"code\"\u001b[0m\u001b[0;34m:\u001b[0m \u001b[0mcode\u001b[0m \u001b[0;32mor\u001b[0m \u001b[0mself\u001b[0m\u001b[0;34m.\u001b[0m\u001b[0mget_auth_response\u001b[0m\u001b[0;34m(\u001b[0m\u001b[0;34m)\u001b[0m\u001b[0;34m,\u001b[0m\u001b[0;34m\u001b[0m\u001b[0;34m\u001b[0m\u001b[0m\n\u001b[0m\u001b[1;32m    536\u001b[0m             \u001b[0;34m\"grant_type\"\u001b[0m\u001b[0;34m:\u001b[0m \u001b[0;34m\"authorization_code\"\u001b[0m\u001b[0;34m,\u001b[0m\u001b[0;34m\u001b[0m\u001b[0;34m\u001b[0m\u001b[0m\n\u001b[1;32m    537\u001b[0m         }\n",
            "\u001b[0;32m/usr/local/lib/python3.10/dist-packages/spotipy/oauth2.py\u001b[0m in \u001b[0;36mget_auth_response\u001b[0;34m(self, open_browser)\u001b[0m\n\u001b[1;32m    488\u001b[0m             \u001b[0;31m# Only start a local http server if a port is specified\u001b[0m\u001b[0;34m\u001b[0m\u001b[0;34m\u001b[0m\u001b[0m\n\u001b[1;32m    489\u001b[0m             \u001b[0;32mif\u001b[0m \u001b[0mredirect_port\u001b[0m\u001b[0;34m:\u001b[0m\u001b[0;34m\u001b[0m\u001b[0;34m\u001b[0m\u001b[0m\n\u001b[0;32m--> 490\u001b[0;31m                 \u001b[0;32mreturn\u001b[0m \u001b[0mself\u001b[0m\u001b[0;34m.\u001b[0m\u001b[0m_get_auth_response_local_server\u001b[0m\u001b[0;34m(\u001b[0m\u001b[0mredirect_port\u001b[0m\u001b[0;34m)\u001b[0m\u001b[0;34m\u001b[0m\u001b[0;34m\u001b[0m\u001b[0m\n\u001b[0m\u001b[1;32m    491\u001b[0m             \u001b[0;32melse\u001b[0m\u001b[0;34m:\u001b[0m\u001b[0;34m\u001b[0m\u001b[0;34m\u001b[0m\u001b[0m\n\u001b[1;32m    492\u001b[0m                 logger.warning('Using `%s` as redirect URI without a port. '\n",
            "\u001b[0;32m/usr/local/lib/python3.10/dist-packages/spotipy/oauth2.py\u001b[0m in \u001b[0;36m_get_auth_response_local_server\u001b[0;34m(self, redirect_port)\u001b[0m\n\u001b[1;32m    457\u001b[0m         \u001b[0mserver\u001b[0m \u001b[0;34m=\u001b[0m \u001b[0mstart_local_http_server\u001b[0m\u001b[0;34m(\u001b[0m\u001b[0mredirect_port\u001b[0m\u001b[0;34m)\u001b[0m\u001b[0;34m\u001b[0m\u001b[0;34m\u001b[0m\u001b[0m\n\u001b[1;32m    458\u001b[0m         \u001b[0mself\u001b[0m\u001b[0;34m.\u001b[0m\u001b[0m_open_auth_url\u001b[0m\u001b[0;34m(\u001b[0m\u001b[0;34m)\u001b[0m\u001b[0;34m\u001b[0m\u001b[0;34m\u001b[0m\u001b[0m\n\u001b[0;32m--> 459\u001b[0;31m         \u001b[0mserver\u001b[0m\u001b[0;34m.\u001b[0m\u001b[0mhandle_request\u001b[0m\u001b[0;34m(\u001b[0m\u001b[0;34m)\u001b[0m\u001b[0;34m\u001b[0m\u001b[0;34m\u001b[0m\u001b[0m\n\u001b[0m\u001b[1;32m    460\u001b[0m \u001b[0;34m\u001b[0m\u001b[0m\n\u001b[1;32m    461\u001b[0m         \u001b[0;32mif\u001b[0m \u001b[0mserver\u001b[0m\u001b[0;34m.\u001b[0m\u001b[0merror\u001b[0m \u001b[0;32mis\u001b[0m \u001b[0;32mnot\u001b[0m \u001b[0;32mNone\u001b[0m\u001b[0;34m:\u001b[0m\u001b[0;34m\u001b[0m\u001b[0;34m\u001b[0m\u001b[0m\n",
            "\u001b[0;32m/usr/lib/python3.10/socketserver.py\u001b[0m in \u001b[0;36mhandle_request\u001b[0;34m(self)\u001b[0m\n\u001b[1;32m    292\u001b[0m \u001b[0;34m\u001b[0m\u001b[0m\n\u001b[1;32m    293\u001b[0m             \u001b[0;32mwhile\u001b[0m \u001b[0;32mTrue\u001b[0m\u001b[0;34m:\u001b[0m\u001b[0;34m\u001b[0m\u001b[0;34m\u001b[0m\u001b[0m\n\u001b[0;32m--> 294\u001b[0;31m                 \u001b[0mready\u001b[0m \u001b[0;34m=\u001b[0m \u001b[0mselector\u001b[0m\u001b[0;34m.\u001b[0m\u001b[0mselect\u001b[0m\u001b[0;34m(\u001b[0m\u001b[0mtimeout\u001b[0m\u001b[0;34m)\u001b[0m\u001b[0;34m\u001b[0m\u001b[0;34m\u001b[0m\u001b[0m\n\u001b[0m\u001b[1;32m    295\u001b[0m                 \u001b[0;32mif\u001b[0m \u001b[0mready\u001b[0m\u001b[0;34m:\u001b[0m\u001b[0;34m\u001b[0m\u001b[0;34m\u001b[0m\u001b[0m\n\u001b[1;32m    296\u001b[0m                     \u001b[0;32mreturn\u001b[0m \u001b[0mself\u001b[0m\u001b[0;34m.\u001b[0m\u001b[0m_handle_request_noblock\u001b[0m\u001b[0;34m(\u001b[0m\u001b[0;34m)\u001b[0m\u001b[0;34m\u001b[0m\u001b[0;34m\u001b[0m\u001b[0m\n",
            "\u001b[0;32m/usr/lib/python3.10/selectors.py\u001b[0m in \u001b[0;36mselect\u001b[0;34m(self, timeout)\u001b[0m\n\u001b[1;32m    414\u001b[0m         \u001b[0mready\u001b[0m \u001b[0;34m=\u001b[0m \u001b[0;34m[\u001b[0m\u001b[0;34m]\u001b[0m\u001b[0;34m\u001b[0m\u001b[0;34m\u001b[0m\u001b[0m\n\u001b[1;32m    415\u001b[0m         \u001b[0;32mtry\u001b[0m\u001b[0;34m:\u001b[0m\u001b[0;34m\u001b[0m\u001b[0;34m\u001b[0m\u001b[0m\n\u001b[0;32m--> 416\u001b[0;31m             \u001b[0mfd_event_list\u001b[0m \u001b[0;34m=\u001b[0m \u001b[0mself\u001b[0m\u001b[0;34m.\u001b[0m\u001b[0m_selector\u001b[0m\u001b[0;34m.\u001b[0m\u001b[0mpoll\u001b[0m\u001b[0;34m(\u001b[0m\u001b[0mtimeout\u001b[0m\u001b[0;34m)\u001b[0m\u001b[0;34m\u001b[0m\u001b[0;34m\u001b[0m\u001b[0m\n\u001b[0m\u001b[1;32m    417\u001b[0m         \u001b[0;32mexcept\u001b[0m \u001b[0mInterruptedError\u001b[0m\u001b[0;34m:\u001b[0m\u001b[0;34m\u001b[0m\u001b[0;34m\u001b[0m\u001b[0m\n\u001b[1;32m    418\u001b[0m             \u001b[0;32mreturn\u001b[0m \u001b[0mready\u001b[0m\u001b[0;34m\u001b[0m\u001b[0;34m\u001b[0m\u001b[0m\n",
            "\u001b[0;31mKeyboardInterrupt\u001b[0m: "
          ]
        }
      ]
    },
    {
      "cell_type": "code",
      "source": [
        "def makeSharedPlaylist(userOne, userTwo, URI):\n",
        "  sharedSongIDs = commonSongs_returnIDs(userOne, userTwo)\n",
        "  s.playlist_add_items(URI, sharedSongIDs)"
      ],
      "metadata": {
        "id": "QaVWto4H-LNN"
      },
      "execution_count": null,
      "outputs": []
    },
    {
      "cell_type": "markdown",
      "source": [
        "# Functions to add:\n",
        "*   Function that runs the function on all a user's friends than ranks the friends music compatability according to how many shared artists/songs they have\n",
        "*   Function to create playlist with shared songs between user and a friend\n",
        "*   Function that takes in two friends shared artists then suggests similar artists that the two can enjoy\n",
        "\n",
        "\n"
      ],
      "metadata": {
        "id": "X5s8yly7cpI8"
      }
    }
  ]
}